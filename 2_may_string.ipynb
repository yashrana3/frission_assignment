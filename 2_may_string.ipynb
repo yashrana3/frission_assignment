{
 "cells": [
  {
   "cell_type": "code",
   "execution_count": 1,
   "id": "faae41cd-d590-4cf9-8d42-0730207f6dab",
   "metadata": {},
   "outputs": [],
   "source": [
    "# 1.swap variables without temp variable\n"
   ]
  },
  {
   "cell_type": "code",
   "execution_count": 5,
   "id": "ab563543-aeda-4452-bcd7-89c9c3e4ae18",
   "metadata": {},
   "outputs": [
    {
     "name": "stdout",
     "output_type": "stream",
     "text": [
      "20\n",
      "10\n"
     ]
    }
   ],
   "source": [
    "x=10\n",
    "y=20\n",
    "\n",
    "x=x+y\n",
    "y=x-y\n",
    "x=x-y\n",
    "\n",
    "print(x)\n",
    "print(y)"
   ]
  },
  {
   "cell_type": "code",
   "execution_count": 7,
   "id": "8300a158-4521-4e29-8f91-743c5fcd6dc2",
   "metadata": {},
   "outputs": [],
   "source": [
    "# area of a rectangle \n"
   ]
  },
  {
   "cell_type": "code",
   "execution_count": 311,
   "id": "f06acb7e-d35e-4769-aa9d-d4e9057aa39f",
   "metadata": {},
   "outputs": [
    {
     "name": "stdin",
     "output_type": "stream",
     "text": [
      "enter the length : 66\n",
      "enter the breadth : 66\n"
     ]
    },
    {
     "name": "stdout",
     "output_type": "stream",
     "text": [
      "The area of rectangle is : 4356\n"
     ]
    }
   ],
   "source": [
    "x=int(input(\"enter the length :\"))\n",
    "y=int(input(\"enter the breadth :\"))\n",
    "\n",
    "l=x*y\n",
    "\n",
    "print(f\"The area of rectangle is : {l}\")"
   ]
  },
  {
   "cell_type": "code",
   "execution_count": 11,
   "id": "452cf0c2-6408-4f15-85f7-1ee9586313f5",
   "metadata": {},
   "outputs": [],
   "source": [
    "# convert celsius to fahrenheit\n"
   ]
  },
  {
   "cell_type": "code",
   "execution_count": 33,
   "id": "49ee4c44-51ab-4c92-b9a9-f455b5a37d0a",
   "metadata": {},
   "outputs": [
    {
     "name": "stdin",
     "output_type": "stream",
     "text": [
      "Enter the temperature in celsius : 39\n"
     ]
    },
    {
     "name": "stdout",
     "output_type": "stream",
     "text": [
      "The temperature in fahrenheit is : 102.2\n"
     ]
    }
   ],
   "source": [
    "x=float(input(\"Enter the temperature in celsius :\"))\n",
    "\n",
    "y=(9/5 * x) + 32\n",
    "z=round(y,2)\n",
    "print(f\"The temperature in fahrenheit is : {z}\")\n"
   ]
  },
  {
   "cell_type": "code",
   "execution_count": 37,
   "id": "bd245484-7b2c-4912-a898-97b0afbce49f",
   "metadata": {},
   "outputs": [],
   "source": [
    "# custom function\n"
   ]
  },
  {
   "cell_type": "code",
   "execution_count": 191,
   "id": "c334bd63-36a2-4f9e-b60a-3b0759d917e3",
   "metadata": {},
   "outputs": [],
   "source": [
    "def split(sentence,limiter=\" \"):\n",
    "    l=[]\n",
    "    k=\"\"\n",
    "    for i in sentence:\n",
    "        if i!= limiter:\n",
    "            k += i\n",
    "        else:\n",
    "            l.append(k)\n",
    "            k=\"\"\n",
    "    l.append(k)\n",
    "    return l"
   ]
  },
  {
   "cell_type": "code",
   "execution_count": 197,
   "id": "d6731a41-40f8-4103-b2e1-81792d831dcf",
   "metadata": {},
   "outputs": [
    {
     "name": "stdout",
     "output_type": "stream",
     "text": [
      "['my name is ', ' yash rana']\n"
     ]
    }
   ],
   "source": [
    "x=split(\"my name is , yash rana\",\",\")\n",
    "print(x)"
   ]
  },
  {
   "cell_type": "code",
   "execution_count": 199,
   "id": "9a172ca9-ff49-45dd-a0e2-e51b35520437",
   "metadata": {},
   "outputs": [],
   "source": [
    "def replace(sentence,replace_char,new_char):\n",
    "    k=\"\"\n",
    "    for i in sentence :\n",
    "       if i == replace_char:\n",
    "           k=k+new_char\n",
    "       else:\n",
    "           k=k+i\n",
    "    return k"
   ]
  },
  {
   "cell_type": "code",
   "execution_count": 201,
   "id": "7797a182-85f7-4dbb-bb03-653b2a7367b9",
   "metadata": {},
   "outputs": [
    {
     "name": "stdout",
     "output_type": "stream",
     "text": [
      "yassrana\n"
     ]
    }
   ],
   "source": [
    "a=replace('yashrana','h','s')\n",
    "print(a)"
   ]
  },
  {
   "cell_type": "code",
   "execution_count": 141,
   "id": "3fab375b-46f7-4466-9a44-5baff6296f54",
   "metadata": {},
   "outputs": [],
   "source": [
    "def upper(x):\n",
    "    k=\"\"\n",
    "    for i in x:\n",
    "        if ord(i)>=97 :\n",
    "            k=k+chr(ord(i)-32)\n",
    "        else:\n",
    "            k+=i\n",
    "    return k\n",
    "        "
   ]
  },
  {
   "cell_type": "code",
   "execution_count": 169,
   "id": "4a0692c4-81f1-4b2b-ba96-fd1f5af0b988",
   "metadata": {},
   "outputs": [
    {
     "name": "stdout",
     "output_type": "stream",
     "text": [
      "YASH\n"
     ]
    }
   ],
   "source": [
    "a=upper(\"Yash\")\n",
    "print(a)"
   ]
  },
  {
   "cell_type": "code",
   "execution_count": 163,
   "id": "562f9d8d-ab58-446d-84d8-0c94326fede6",
   "metadata": {},
   "outputs": [],
   "source": [
    "def lower(x):\n",
    "    k=\"\"\n",
    "    for i in x:\n",
    "        if ord(i)>=65 and ord(i)<97:\n",
    "            k=k+chr(ord(i)+32)\n",
    "        else:\n",
    "            k+=i\n",
    "    return k"
   ]
  },
  {
   "cell_type": "code",
   "execution_count": 165,
   "id": "58b9dd6d-0167-4df9-97ef-6c721d637164",
   "metadata": {},
   "outputs": [
    {
     "name": "stdout",
     "output_type": "stream",
     "text": [
      "yash\n"
     ]
    }
   ],
   "source": [
    "a=lower(\"YaSH\")\n",
    "print(a)"
   ]
  },
  {
   "cell_type": "code",
   "execution_count": 289,
   "id": "d49474c3-0949-4e31-bc0b-06484108b4cf",
   "metadata": {},
   "outputs": [],
   "source": [
    "# lstrip "
   ]
  },
  {
   "cell_type": "code",
   "execution_count": 297,
   "id": "90e494e8-347d-4c07-8906-cf8afb799cb5",
   "metadata": {},
   "outputs": [],
   "source": [
    "def lstrip(sentence):\n",
    "    start=0\n",
    "    while sentence[start]==\" \":\n",
    "        start+=1\n",
    "    return sentence[start:]"
   ]
  },
  {
   "cell_type": "code",
   "execution_count": 301,
   "id": "405cf8a0-5a9e-4427-b94d-b6ce9d54335c",
   "metadata": {},
   "outputs": [
    {
     "name": "stdout",
     "output_type": "stream",
     "text": [
      "yash rana \n"
     ]
    }
   ],
   "source": [
    "a=lstrip(\" yash rana \")\n",
    "print(a)"
   ]
  },
  {
   "cell_type": "code",
   "execution_count": null,
   "id": "1a98f0ee-7729-45c2-913a-492f71a07b8b",
   "metadata": {},
   "outputs": [],
   "source": [
    "# rstrip\n"
   ]
  },
  {
   "cell_type": "code",
   "execution_count": 303,
   "id": "ffc2e7c5-7906-428f-b644-5768d9864dac",
   "metadata": {},
   "outputs": [],
   "source": [
    "def rstrip(sentence):\n",
    "    end=len(sentence)-1\n",
    "    while sentence[end] ==\" \":\n",
    "        end-=1\n",
    "    return sentence[:end+1]"
   ]
  },
  {
   "cell_type": "code",
   "execution_count": 307,
   "id": "4c5dcfeb-95de-4c04-9bfc-1849e4cb77df",
   "metadata": {},
   "outputs": [
    {
     "name": "stdout",
     "output_type": "stream",
     "text": [
      "yash rana \n"
     ]
    }
   ],
   "source": [
    "a=strip(\"  yash rana \")\n",
    "print(a)"
   ]
  },
  {
   "cell_type": "code",
   "execution_count": 283,
   "id": "7edd85bb-b64a-4f7b-887c-837b239cb188",
   "metadata": {},
   "outputs": [],
   "source": [
    "def strip(sentence):\n",
    "    start=0\n",
    "    end=len(sentence)-1\n",
    "    while sentence[start]==\" \":\n",
    "        start+=1\n",
    "    while sentence[end] ==\" \":\n",
    "        end-=1\n",
    "    return sentence[start:end+1]"
   ]
  },
  {
   "cell_type": "code",
   "execution_count": 287,
   "id": "f791076f-3c55-45f6-b084-b55846e2d723",
   "metadata": {
    "scrolled": true
   },
   "outputs": [
    {
     "name": "stdout",
     "output_type": "stream",
     "text": [
      "yash rana\n"
     ]
    }
   ],
   "source": [
    "a=strip(\"yash rana \")\n",
    "print(a)"
   ]
  },
  {
   "cell_type": "code",
   "execution_count": null,
   "id": "5c071a05-d1ef-4357-890c-0b42d4b9a30b",
   "metadata": {},
   "outputs": [],
   "source": []
  },
  {
   "cell_type": "code",
   "execution_count": null,
   "id": "82ca4fd1-35a5-4d85-8e6e-3664e31490a5",
   "metadata": {},
   "outputs": [],
   "source": []
  }
 ],
 "metadata": {
  "kernelspec": {
   "display_name": "Python 3 (ipykernel)",
   "language": "python",
   "name": "python3"
  },
  "language_info": {
   "codemirror_mode": {
    "name": "ipython",
    "version": 3
   },
   "file_extension": ".py",
   "mimetype": "text/x-python",
   "name": "python",
   "nbconvert_exporter": "python",
   "pygments_lexer": "ipython3",
   "version": "3.12.4"
  }
 },
 "nbformat": 4,
 "nbformat_minor": 5
}
