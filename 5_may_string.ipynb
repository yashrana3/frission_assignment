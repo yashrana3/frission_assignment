{
 "cells": [
  {
   "cell_type": "code",
   "execution_count": 3,
   "id": "119f3001-3b0a-43a4-aa59-174eba91a1ca",
   "metadata": {},
   "outputs": [],
   "source": [
    "## Assignment 2\n",
    "\n",
    "## String"
   ]
  },
  {
   "cell_type": "code",
   "execution_count": 9,
   "id": "78d9bec8-9065-46c6-99d4-ee4445a291e3",
   "metadata": {},
   "outputs": [
    {
     "data": {
      "text/plain": [
       "'gnirts'"
      ]
     },
     "execution_count": 9,
     "metadata": {},
     "output_type": "execute_result"
    }
   ],
   "source": [
    "#1. reverse a string\n",
    "\n",
    "k=\"string\"\n",
    "k[::-1]"
   ]
  },
  {
   "cell_type": "code",
   "execution_count": 187,
   "id": "60e05781-a0bf-4b3f-915f-65c4ba1d55c9",
   "metadata": {},
   "outputs": [
    {
     "name": "stdin",
     "output_type": "stream",
     "text": [
      "enter the string 'nitin'\n"
     ]
    },
    {
     "name": "stdout",
     "output_type": "stream",
     "text": [
      "string is a palindrome\n"
     ]
    }
   ],
   "source": [
    "# 2. check palindrome\n",
    "\n",
    "k=eval(input('enter the string'))\n",
    "if k==k[::-1]:\n",
    "    print(\"string is a palindrome\")\n",
    "else:\n",
    "    print(\"string is not a palindrome\")"
   ]
  },
  {
   "cell_type": "code",
   "execution_count": 39,
   "id": "d3314ad0-eff6-411e-9261-82e2411a3203",
   "metadata": {},
   "outputs": [
    {
     "name": "stdin",
     "output_type": "stream",
     "text": [
      "enter the string \"FRISSON\"\n"
     ]
    },
    {
     "name": "stdout",
     "output_type": "stream",
     "text": [
      "frisson\n"
     ]
    }
   ],
   "source": [
    "# 3.lowercase \n",
    "k=eval(input(\"enter the string\"))\n",
    "a=k.lower()\n",
    "print(a)"
   ]
  },
  {
   "cell_type": "code",
   "execution_count": 41,
   "id": "43f64d7e-6ce7-4f60-a66a-6cf7d6d5dd2a",
   "metadata": {},
   "outputs": [
    {
     "name": "stdin",
     "output_type": "stream",
     "text": [
      "enter the string 'yash'\n"
     ]
    },
    {
     "name": "stdout",
     "output_type": "stream",
     "text": [
      "YASH\n"
     ]
    }
   ],
   "source": [
    "# 4.uppercase \n",
    "k=eval(input(\"enter the string\"))\n",
    "a=k.upper()\n",
    "print(a)"
   ]
  },
  {
   "cell_type": "code",
   "execution_count": 51,
   "id": "926c47d8-61c4-4047-b0aa-fba7a6a1d453",
   "metadata": {},
   "outputs": [
    {
     "name": "stdin",
     "output_type": "stream",
     "text": [
      "enter the string 'aeiouyash'\n"
     ]
    },
    {
     "name": "stdout",
     "output_type": "stream",
     "text": [
      "6\n"
     ]
    }
   ],
   "source": [
    "# 5.count vowels\n",
    "s1=eval(input(\"enter the string\"))\n",
    "s2=\"\"\n",
    "for i in s1:\n",
    "    if i in 'aeiou':\n",
    "        s2+=i\n",
    "print(len(s2))"
   ]
  },
  {
   "cell_type": "code",
   "execution_count": 55,
   "id": "46613c9c-66b8-4d14-b081-9d9fc5d97675",
   "metadata": {},
   "outputs": [
    {
     "name": "stdin",
     "output_type": "stream",
     "text": [
      "enter the string 'aeiou'\n"
     ]
    },
    {
     "name": "stdout",
     "output_type": "stream",
     "text": [
      "0\n"
     ]
    }
   ],
   "source": [
    "# 6.count consonants\n",
    "s1=eval(input(\"enter the string\"))\n",
    "s2=\"\"\n",
    "for i in s1:\n",
    "    if i not in 'aeiou':\n",
    "        s2+=i\n",
    "print(len(s2))"
   ]
  },
  {
   "cell_type": "code",
   "execution_count": 57,
   "id": "f125bc7b-1f75-4129-98d4-9bf52e857e65",
   "metadata": {},
   "outputs": [
    {
     "name": "stdin",
     "output_type": "stream",
     "text": [
      "enter the string '  yash  '\n"
     ]
    },
    {
     "data": {
      "text/plain": [
       "'yash'"
      ]
     },
     "execution_count": 57,
     "metadata": {},
     "output_type": "execute_result"
    }
   ],
   "source": [
    "# 7.remove whitespace \n",
    "s1=eval(input(\"enter the string\"))\n",
    "s1.strip()\n"
   ]
  },
  {
   "cell_type": "code",
   "execution_count": 551,
   "id": "e55cb4ec-c274-4f3b-aeb2-de8f37b5c82d",
   "metadata": {},
   "outputs": [
    {
     "name": "stdin",
     "output_type": "stream",
     "text": [
      "enter the string yash rana\n"
     ]
    },
    {
     "name": "stdout",
     "output_type": "stream",
     "text": [
      "the length of string is 8\n"
     ]
    }
   ],
   "source": [
    "# 8.find length without len func\n",
    "s1=str(input(\"enter the string\"))\n",
    "s2=0\n",
    "for i in s1:\n",
    "    if i==\" \":\n",
    "        s2==0\n",
    "    else:\n",
    "        s2+=1\n",
    "print(f\"the length of string is {s2}\")"
   ]
  },
  {
   "cell_type": "code",
   "execution_count": 67,
   "id": "37c3d28c-64b4-4eca-a1a3-07c53d7677e3",
   "metadata": {},
   "outputs": [
    {
     "name": "stdin",
     "output_type": "stream",
     "text": [
      "enter the string \"company i work in is Frisson Devhub\"\n",
      "enter the string 'Frisson'\n"
     ]
    },
    {
     "name": "stdout",
     "output_type": "stream",
     "text": [
      "Frisson word found\n"
     ]
    }
   ],
   "source": [
    "# 9.check string contains specific word\n",
    "s1=eval(input(\"enter the string\"))\n",
    "s2=eval(input(\"enter the string\"))\n",
    "if s2 in s1:\n",
    "    print(f\"{s2} word found\")\n",
    "else:\n",
    "    print(f\"{s2} word not found\")"
   ]
  },
  {
   "cell_type": "code",
   "execution_count": 73,
   "id": "e4553a70-5486-43e2-816f-b994b63e38bc",
   "metadata": {},
   "outputs": [
    {
     "name": "stdin",
     "output_type": "stream",
     "text": [
      "enter the string \"company i work in is Frisson Devhub\"\n",
      "enter the word to replace \"in\"\n",
      "enter the new word \"for\"\n"
     ]
    },
    {
     "data": {
      "text/plain": [
       "'company i work for is Frisson Devhub'"
      ]
     },
     "execution_count": 73,
     "metadata": {},
     "output_type": "execute_result"
    }
   ],
   "source": [
    "# 10.Replace a word in a string with another word\n",
    "string=eval(input(\"enter the string\"))\n",
    "old_char=eval(input(\"enter the word to replace\"))\n",
    "new_char=eval(input(\"enter the new word\"))\n",
    "string.replace(old_char,new_char)"
   ]
  },
  {
   "cell_type": "code",
   "execution_count": 75,
   "id": "09814eeb-0b0e-4355-a9a7-2e6daa466a53",
   "metadata": {},
   "outputs": [
    {
     "name": "stdin",
     "output_type": "stream",
     "text": [
      "enter the string \"frisson devhub\"\n",
      "enter the word to count \"s\"\n"
     ]
    },
    {
     "data": {
      "text/plain": [
       "2"
      ]
     },
     "execution_count": 75,
     "metadata": {},
     "output_type": "execute_result"
    }
   ],
   "source": [
    "# 11.Count the occurrences of a word in a string.\n",
    "string=eval(input(\"enter the string\"))\n",
    "word=eval(input(\"enter the word to count\"))\n",
    "string.count(word)"
   ]
  },
  {
   "cell_type": "code",
   "execution_count": 89,
   "id": "3e619508-7c24-41f0-905c-d3e930160320",
   "metadata": {},
   "outputs": [
    {
     "name": "stdin",
     "output_type": "stream",
     "text": [
      "enter the word 's'\n"
     ]
    },
    {
     "name": "stdout",
     "output_type": "stream",
     "text": [
      "s is at 3 index in first occurence\n"
     ]
    }
   ],
   "source": [
    "# 12.Find the first occurrence of a word in a string.\n",
    "s1=\"frisson devhub\"\n",
    "word=eval(input(\"enter the word\"))\n",
    "i=s1.find(word)\n",
    "print(f\"{word } is at {i} index in first occurence\")"
   ]
  },
  {
   "cell_type": "code",
   "execution_count": 95,
   "id": "3ce1d5b4-4d06-4c56-977f-b53872c9266a",
   "metadata": {},
   "outputs": [
    {
     "name": "stdin",
     "output_type": "stream",
     "text": [
      "enter the word \"s\"\n"
     ]
    },
    {
     "name": "stdout",
     "output_type": "stream",
     "text": [
      "4\n"
     ]
    }
   ],
   "source": [
    "# 13.Find the last occurrence of a word in a string.\n",
    "s1=\"frisson devhub\"\n",
    "word=eval(input(\"enter the word\"))\n",
    "indexes=[]\n",
    "for i in range(len(s1)):\n",
    "    if s1[i]== word :\n",
    "        indexes.append(i)\n",
    "print(indexes[-1])\n"
   ]
  },
  {
   "cell_type": "code",
   "execution_count": 97,
   "id": "9ebfd4f7-d976-45ae-9522-012ef15b6716",
   "metadata": {},
   "outputs": [
    {
     "data": {
      "text/plain": [
       "['frisson', 'devhub']"
      ]
     },
     "execution_count": 97,
     "metadata": {},
     "output_type": "execute_result"
    }
   ],
   "source": [
    "# 14.Split a string into a list of words.\n",
    "s1=\"frisson devhub\"\n",
    "s1.split()\n"
   ]
  },
  {
   "cell_type": "code",
   "execution_count": 101,
   "id": "962d1c6e-7f6b-40d6-ad7d-ff83ef68fb03",
   "metadata": {},
   "outputs": [
    {
     "data": {
      "text/plain": [
       "'frisson devhub'"
      ]
     },
     "execution_count": 101,
     "metadata": {},
     "output_type": "execute_result"
    }
   ],
   "source": [
    "# 15.Join a list of words into a string.\n",
    "s1=['frisson', 'devhub']\n",
    "s2=\" \".join(s1)\n",
    "s2"
   ]
  },
  {
   "cell_type": "code",
   "execution_count": 107,
   "id": "6584b61c-0692-4d5c-a703-7cf80f1c359c",
   "metadata": {},
   "outputs": [
    {
     "name": "stdout",
     "output_type": "stream",
     "text": [
      "company_i_work_for_is_Frisson_Devhub\n"
     ]
    }
   ],
   "source": [
    "# 16.Convert a string where words are separated by spaces to one where words\n",
    "# are separated by underscores.\n",
    "s1=\"company i work for is Frisson Devhub\"\n",
    "s2=\"\"\n",
    "for i in s1:\n",
    "    if i!=\" \":\n",
    "        s2+=i\n",
    "    else:\n",
    "        i=\"_\"\n",
    "        s2+=i\n",
    "print(s2)        "
   ]
  },
  {
   "cell_type": "code",
   "execution_count": 109,
   "id": "a59d041b-644d-41a0-a959-aba67733ddb9",
   "metadata": {},
   "outputs": [
    {
     "data": {
      "text/plain": [
       "True"
      ]
     },
     "execution_count": 109,
     "metadata": {},
     "output_type": "execute_result"
    }
   ],
   "source": [
    "# 17.Check if a string starts with a specific word or phrase.\n",
    "s1=\"hello my name is yash rana\"\n",
    "s1.startswith(\"hello\")"
   ]
  },
  {
   "cell_type": "code",
   "execution_count": 111,
   "id": "8f85f086-7f31-4e78-8d28-9698d028d682",
   "metadata": {},
   "outputs": [
    {
     "data": {
      "text/plain": [
       "True"
      ]
     },
     "execution_count": 111,
     "metadata": {},
     "output_type": "execute_result"
    }
   ],
   "source": [
    "# 18.Check if a string ends with a specific word or phrase.\n",
    "s1=\"hello my name is yash rana\"\n",
    "s1.endswith(\"rana\")"
   ]
  },
  {
   "cell_type": "code",
   "execution_count": 115,
   "id": "86984df3-4e4e-4e87-8149-fe6833d2a5c2",
   "metadata": {},
   "outputs": [
    {
     "data": {
      "text/plain": [
       "'Hello World'"
      ]
     },
     "execution_count": 115,
     "metadata": {},
     "output_type": "execute_result"
    }
   ],
   "source": [
    "# 19.Convert a string to title case (e.g., \"hello world\" to \"Hello World\").\n",
    "s1=\"hello world\"\n",
    "s1.title()"
   ]
  },
  {
   "cell_type": "code",
   "execution_count": 143,
   "id": "0928d070-7e02-431b-bbec-a7eabaa0fe9e",
   "metadata": {},
   "outputs": [
    {
     "name": "stdout",
     "output_type": "stream",
     "text": [
      "hello\n"
     ]
    }
   ],
   "source": [
    "# 20.Find the longest word in a string.\n",
    "string=\"hello world my name is yash rana\"\n",
    "longest_word = \"\"\n",
    "for i in string.split():\n",
    "    if (len(i)>len(longest_word)):\n",
    "        longest_word=i\n",
    "print(longest_word)\n"
   ]
  },
  {
   "cell_type": "code",
   "execution_count": 404,
   "id": "1ad0beb9-5e1a-490b-a869-eaf6f02a1c0b",
   "metadata": {},
   "outputs": [
    {
     "name": "stdout",
     "output_type": "stream",
     "text": [
      "my\n"
     ]
    }
   ],
   "source": [
    "# 21.Find the shortest word in a string.\n",
    "string=\"hello world my name is yash rana\"\n",
    "l=string.split()\n",
    "shortest_word=l[0]\n",
    "\n",
    "for i in l:\n",
    "    if len(i)<len(shortest_word):\n",
    "        shortest_word=i\n",
    "print(shortest_word)\n"
   ]
  },
  {
   "cell_type": "code",
   "execution_count": 406,
   "id": "86292a07-6069-4885-8644-9e604687046d",
   "metadata": {},
   "outputs": [
    {
     "data": {
      "text/plain": [
       "'rana yash is name my world hello'"
      ]
     },
     "execution_count": 406,
     "metadata": {},
     "output_type": "execute_result"
    }
   ],
   "source": [
    " # 22.Reverse the order of words in a string.\n",
    "string=\"hello world my name is yash rana\"\n",
    "\" \".join(string.split()[::-1])\n"
   ]
  },
  {
   "cell_type": "code",
   "execution_count": 408,
   "id": "070f3a46-4084-49d2-9458-df0c4d9bd581",
   "metadata": {},
   "outputs": [
    {
     "data": {
      "text/plain": [
       "True"
      ]
     },
     "execution_count": 408,
     "metadata": {},
     "output_type": "execute_result"
    }
   ],
   "source": [
    "# 23. Check if a string is alphanumeric.\n",
    "string=\"hello132\"\n",
    "string.isalnum()  "
   ]
  },
  {
   "cell_type": "code",
   "execution_count": 410,
   "id": "c083944f-5ac5-458b-931b-626b1534a829",
   "metadata": {},
   "outputs": [
    {
     "name": "stdout",
     "output_type": "stream",
     "text": [
      "132\n"
     ]
    }
   ],
   "source": [
    "# 24. Extract all digits from a string.\n",
    "string=\"hello132\"\n",
    "digit=\"\"\n",
    "for i in string:\n",
    "    if i.isnumeric(): # check word is numerical(isdigit) \n",
    "         digit+=i\n",
    "print(digit)"
   ]
  },
  {
   "cell_type": "code",
   "execution_count": 412,
   "id": "cfc442f1-cf5d-42e6-8278-102b3dde9397",
   "metadata": {},
   "outputs": [
    {
     "name": "stdout",
     "output_type": "stream",
     "text": [
      "hello\n"
     ]
    }
   ],
   "source": [
    "# 25. Extract all alphabets from a string.\n",
    "string=\"hello132\"\n",
    "digit=\"\"\n",
    "for i in string:\n",
    "    if i.isalpha():  # check char is alphabet\n",
    "        digit+=i\n",
    "print(digit)"
   ]
  },
  {
   "cell_type": "code",
   "execution_count": 414,
   "id": "629a44d4-99a9-459e-8a0c-06fbcca57576",
   "metadata": {},
   "outputs": [
    {
     "name": "stdout",
     "output_type": "stream",
     "text": [
      "5\n"
     ]
    }
   ],
   "source": [
    "# 26. Count the number of uppercase letters in a string.\n",
    "string=\"HELLo worlD1223\"\n",
    "digit=\"\"\n",
    "for i in string:\n",
    "    if i.isupper(): # check if char is upper\n",
    "        digit+=i\n",
    "print(len(digit))"
   ]
  },
  {
   "cell_type": "code",
   "execution_count": 416,
   "id": "abba1239-1afc-4994-a679-182e463f78be",
   "metadata": {},
   "outputs": [
    {
     "name": "stdout",
     "output_type": "stream",
     "text": [
      "4\n"
     ]
    }
   ],
   "source": [
    "# 27. Count the number of lowercase letters in a string.\n",
    "string=\"HELLo woRlD1223\"\n",
    "digit=\"\"\n",
    "for i in string:\n",
    "    if i.islower(): # check the char is lower\n",
    "        digit+=i\n",
    "print(len(digit))\n"
   ]
  },
  {
   "cell_type": "code",
   "execution_count": 418,
   "id": "7e7e329a-a15d-4cfb-be52-576cf41bbede",
   "metadata": {},
   "outputs": [
    {
     "data": {
      "text/plain": [
       "'hellO WOrLd1223'"
      ]
     },
     "execution_count": 418,
     "metadata": {},
     "output_type": "execute_result"
    }
   ],
   "source": [
    "# 28. Swap the case of each character in a string.\n",
    "string=\"HELLo woRlD1223\"\n",
    "string.swapcase() # swap lower to upper and vice versa"
   ]
  },
  {
   "cell_type": "code",
   "execution_count": 420,
   "id": "e97a2377-8ae1-4f9e-aa13-9e20c9a56ee5",
   "metadata": {},
   "outputs": [
    {
     "name": "stdin",
     "output_type": "stream",
     "text": [
      "enter the word to remove: \"my\"\n"
     ]
    },
    {
     "data": {
      "text/plain": [
       "'hello world  name is yash rana'"
      ]
     },
     "execution_count": 420,
     "metadata": {},
     "output_type": "execute_result"
    }
   ],
   "source": [
    "# 29. Remove a specific word from a string\n",
    "string=\"hello world my name is yash rana\"\n",
    "word=eval(input('enter the word to remove:'))\n",
    "string.replace(word, \"\").strip()"
   ]
  },
  {
   "cell_type": "code",
   "execution_count": 323,
   "id": "ff4f8094-cf4f-41f2-8d4b-dec918bbba51",
   "metadata": {},
   "outputs": [
    {
     "name": "stdin",
     "output_type": "stream",
     "text": [
      "enter the mail:  yashhdavb%gmail.com\n"
     ]
    },
    {
     "name": "stdout",
     "output_type": "stream",
     "text": [
      "not valid email\n"
     ]
    }
   ],
   "source": [
    "# 30. Check if a string is a valid email address.\n",
    "import re \n",
    "email=str(input(\"enter the mail: \"))\n",
    "pattern=r'^[a-zA-Z0-9._%+\\-]+@[a-zA-Z0-9.-]+\\.[a-zA-Z]{2,}$'\n",
    "valid=re.match(pattern,email)\n",
    "if valid:\n",
    "    print(\"valid email\")\n",
    "else:\n",
    "    print(\"not valid email\")\n",
    "    "
   ]
  },
  {
   "cell_type": "code",
   "execution_count": 307,
   "id": "c26ad668-73f2-4d80-a674-907f4ff4ff48",
   "metadata": {},
   "outputs": [
    {
     "data": {
      "text/plain": [
       "'yashrana'"
      ]
     },
     "execution_count": 307,
     "metadata": {},
     "output_type": "execute_result"
    }
   ],
   "source": [
    "# 31. Extract the username from an email address string.\n",
    "email = 'yashrana@gmail.com'\n",
    "email.split('@')[0]\n"
   ]
  },
  {
   "cell_type": "code",
   "execution_count": 309,
   "id": "fcdfab21-e8dc-4e22-a9fa-bb41cc378278",
   "metadata": {},
   "outputs": [
    {
     "data": {
      "text/plain": [
       "'gmail.com'"
      ]
     },
     "execution_count": 309,
     "metadata": {},
     "output_type": "execute_result"
    }
   ],
   "source": [
    "# 32. Extract the domain name from an email address string.\n",
    "email = 'yashrana@gmail.com'\n",
    "email.split('@')[1]\n"
   ]
  },
  {
   "cell_type": "code",
   "execution_count": 565,
   "id": "fe445a69-ba4a-4bc9-a797-5bf39bee7555",
   "metadata": {},
   "outputs": [
    {
     "name": "stdout",
     "output_type": "stream",
     "text": [
      "hello world\n"
     ]
    }
   ],
   "source": [
    "# 33. Replace multiple spaces in a string with a single space.\n",
    "string=\"hello   world\"\n",
    "result=\"\"\n",
    "for i in string:\n",
    "    if i != \" \":\n",
    "        result+=i\n",
    "        space=False\n",
    "    else:\n",
    "        if not space :\n",
    "            result+=\" \"\n",
    "            space=True\n",
    "        \n",
    "print(result)\n",
    "        \n",
    "    "
   ]
  },
  {
   "cell_type": "code",
   "execution_count": 315,
   "id": "72d6fa70-7205-4969-b51c-f8419951a73f",
   "metadata": {},
   "outputs": [
    {
     "name": "stdout",
     "output_type": "stream",
     "text": [
      "valid url\n"
     ]
    }
   ],
   "source": [
    "# 34. Check if a string is a valid URL.\n",
    "import re\n",
    "url=\"http://example.com\"\n",
    "pattern = r'^(https?:\\/\\/)?(www\\.)?[a-zA-Z0-9.-]+\\.[a-zA-Z]{2,}([\\/\\w.-]*)*\\/?$'\n",
    "valid=re.match(pattern,url)\n",
    "if valid:\n",
    "    print(\"valid url\")\n",
    "else:\n",
    "    print(\"not valid url\")\n",
    "    "
   ]
  },
  {
   "cell_type": "code",
   "execution_count": 329,
   "id": "74969963-060d-4d12-861e-4d55f6b9777b",
   "metadata": {},
   "outputs": [
    {
     "data": {
      "text/plain": [
       "'http'"
      ]
     },
     "execution_count": 329,
     "metadata": {},
     "output_type": "execute_result"
    }
   ],
   "source": [
    "# 35.Extract the protocol (http or https) from a URL string\n",
    "url=\"http://example.com\"\n",
    "url.split(\":\")[0]"
   ]
  },
  {
   "cell_type": "code",
   "execution_count": 583,
   "id": "075c5c59-d158-4acf-89b6-05b5bf052de7",
   "metadata": {},
   "outputs": [
    {
     "name": "stdout",
     "output_type": "stream",
     "text": [
      "h: is 2\n",
      "e: is 2\n",
      "l: is 2\n",
      "o: is 2\n",
      " : is 2\n",
      "f: is 1\n",
      "r: is 1\n",
      "i: is 1\n",
      "s: is 2\n",
      "n: is 1\n",
      "d: is 1\n",
      "v: is 1\n",
      "u: is 1\n",
      "b: is 1\n"
     ]
    }
   ],
   "source": [
    "#36. Find the frequency of each character in a string.\n",
    "string=\"hello frisson devhub\"\n",
    "freq= \"\"\n",
    "for i in string :\n",
    "    if i not in freq:\n",
    "        count=0\n",
    "        for j in string:\n",
    "            if j==i:\n",
    "                count+=1\n",
    "        print(f\"{i}: is {count}\")\n",
    "        freq+=i"
   ]
  },
  {
   "cell_type": "code",
   "execution_count": 366,
   "id": "be74e204-64d5-44bf-93ad-510bf9c7944d",
   "metadata": {},
   "outputs": [
    {
     "name": "stdout",
     "output_type": "stream",
     "text": [
      "Hello World Python is amazing\n"
     ]
    }
   ],
   "source": [
    "# 37. Remove all punctuation from a string.\n",
    "string=\"Hello, World! Python is amazing.\"\n",
    "punctuations = '''!()-[]{};:'\",<>./?@#$%^&*_~'''\n",
    "for i in string:\n",
    "    if i in punctuations:\n",
    "        string=string.replace(i,\"\")\n",
    "print(string)"
   ]
  },
  {
   "cell_type": "code",
   "execution_count": 380,
   "id": "b97a1f44-c813-469d-9299-84bdc80222e5",
   "metadata": {},
   "outputs": [
    {
     "name": "stdout",
     "output_type": "stream",
     "text": [
      "contain only digit\n"
     ]
    }
   ],
   "source": [
    "# 38. Check if a string contains only digits.\n",
    "string=\"3141\"\n",
    "if string.isnumeric():\n",
    "    print(\"contain only digit\")\n",
    "else:\n",
    "    print(\"give a string with digit\")\n",
    "    "
   ]
  },
  {
   "cell_type": "code",
   "execution_count": 384,
   "id": "7ed3b78e-cb79-4ef0-9602-7a20c14d8db3",
   "metadata": {},
   "outputs": [
    {
     "name": "stdout",
     "output_type": "stream",
     "text": [
      "contain only alphabet\n"
     ]
    }
   ],
   "source": [
    "# 39. Check if a string contains only alphabets.\n",
    "string=\"yash\"\n",
    "if string.isalpha():\n",
    "    print(\"contain only alphabet\")\n",
    "else:\n",
    "    print(\"give a string with alphabet\")\n",
    "    "
   ]
  },
  {
   "cell_type": "code",
   "execution_count": 426,
   "id": "5334b9d1-e7d7-4357-b5cc-8097a7b8684d",
   "metadata": {},
   "outputs": [
    {
     "name": "stdout",
     "output_type": "stream",
     "text": [
      "['f', 'r', 'i', 's', 's', 'o', 'n', ' ', 'd', 'e', 'v', 'h', 'u', 'b']\n"
     ]
    }
   ],
   "source": [
    "# 40. Convert a string to a list of characters.\n",
    "string=\"frisson devhub\"\n",
    "s=list(string)\n",
    "print(s)"
   ]
  },
  {
   "cell_type": "code",
   "execution_count": 450,
   "id": "5d891133-c4f3-4cf3-984e-f0cda5757525",
   "metadata": {},
   "outputs": [
    {
     "name": "stdout",
     "output_type": "stream",
     "text": [
      "both string are anagram\n"
     ]
    }
   ],
   "source": [
    "# 41. Check if two strings are anagrams.\n",
    "s1=\"mapqe\"\n",
    "s2=\"pqmae\"\n",
    "a1=sorted(s1)\n",
    "a2=sorted(s2)\n",
    "if a1==a2 :\n",
    "    print('both string are anagram')\n",
    "else:\n",
    "    print(\"they are not anagram\")"
   ]
  },
  {
   "cell_type": "code",
   "execution_count": 456,
   "id": "2e354921-476c-44eb-b84c-3fc734d59cdb",
   "metadata": {},
   "outputs": [
    {
     "name": "stdout",
     "output_type": "stream",
     "text": [
      "BDVK\n"
     ]
    }
   ],
   "source": [
    "# 42. Encode a string using a Caesar cipher.\n",
    "string=\"yash\"\n",
    "shift=3\n",
    "result=\"\"\n",
    "for i in string:\n",
    "    if i.isupper():\n",
    "        result+=chr((ord(i) + shift - 65) % 26 + 65)\n",
    "    else:\n",
    "        result+=chr((ord(i) + shift - 97) % 26 + 65)\n",
    "print(result)\n"
   ]
  },
  {
   "cell_type": "code",
   "execution_count": 460,
   "id": "1db34937-9553-4443-97e8-04c5734d6d2b",
   "metadata": {},
   "outputs": [
    {
     "name": "stdout",
     "output_type": "stream",
     "text": [
      "YASH\n"
     ]
    }
   ],
   "source": [
    "# 43. Decode a Caesar cipher encoded string.\n",
    "string=\"bdvk\"\n",
    "shift=3\n",
    "result=\"\"\n",
    "for i in string:\n",
    "    if i.isupper():\n",
    "        result+=chr((ord(i) - shift - 65) % 26 + 65)\n",
    "    else:\n",
    "        result+=chr((ord(i) - shift - 97) % 26 + 65)\n",
    "print(result)\n"
   ]
  },
  {
   "cell_type": "code",
   "execution_count": 479,
   "id": "755a375a-3df6-4359-aa41-056aa7abb673",
   "metadata": {},
   "outputs": [
    {
     "name": "stdout",
     "output_type": "stream",
     "text": [
      "a\n"
     ]
    }
   ],
   "source": [
    "# 44. Find the most frequent word in a string.\n",
    "string=\"hellovaayu\"\n",
    "result=\"\"\n",
    "for i in string:\n",
    "    count=0\n",
    "    for j in string:\n",
    "        if j==i :\n",
    "            count+=1\n",
    "    if count > 1:\n",
    "        result = i\n",
    "print(result)"
   ]
  },
  {
   "cell_type": "code",
   "execution_count": 483,
   "id": "71c8c2e9-7729-47e2-9524-27d0ba984b4a",
   "metadata": {},
   "outputs": [
    {
     "name": "stdout",
     "output_type": "stream",
     "text": [
      "h e l o v a y u \n"
     ]
    }
   ],
   "source": [
    "# 45. Find all unique words in a string.\n",
    "string=\"hellovaayu\"\n",
    "result=\"\"\n",
    "for i in string:\n",
    "    if i not in result:\n",
    "        result=result + i + \" \"\n",
    "print(result)"
   ]
  },
  {
   "cell_type": "code",
   "execution_count": 489,
   "id": "ba6831ce-65bb-4fd4-94ea-f983d7171b0f",
   "metadata": {},
   "outputs": [
    {
     "name": "stdout",
     "output_type": "stream",
     "text": [
      "2\n"
     ]
    }
   ],
   "source": [
    "# 46. Count the number of syllables in a string.\n",
    "string=\"hello\"\n",
    "vowel=\"aeiou\"\n",
    "result=\"\"\n",
    "for i in string:\n",
    "    if i in vowel:\n",
    "        result+=i\n",
    "print(len(result))"
   ]
  },
  {
   "cell_type": "code",
   "execution_count": 503,
   "id": "5ca2c6d1-9ce3-49f7-a29d-d7a908fac098",
   "metadata": {},
   "outputs": [
    {
     "name": "stdout",
     "output_type": "stream",
     "text": [
      "no special char\n"
     ]
    }
   ],
   "source": [
    "# 47. Check if a string contains any special characters.\n",
    "string=\"hello\"\n",
    "special_char='''!()-[]{};:'\",<>./?@#$%^&*_~'''\n",
    "count=0\n",
    "for i in string:\n",
    "    if i in special_char:\n",
    "        count+=1\n",
    "if count > 1 :\n",
    "    print(\"contains special char\")\n",
    "else:\n",
    "    print(\"no special char\")"
   ]
  },
  {
   "cell_type": "code",
   "execution_count": 541,
   "id": "7a649481-b96e-4364-bd29-932fc2722aa4",
   "metadata": {},
   "outputs": [
    {
     "name": "stdout",
     "output_type": "stream",
     "text": [
      "helo\n"
     ]
    }
   ],
   "source": [
    "# 48. Remove the nth word from a string.\n",
    "string=\"hello\"\n",
    "n=3\n",
    "result=\"\"\n",
    "for i in range(len(string)):\n",
    "    if i==n-1:\n",
    "        continue\n",
    "    else:\n",
    "        result+=string[i]\n",
    "print(result)"
   ]
  },
  {
   "cell_type": "code",
   "execution_count": 547,
   "id": "50c2cd62-6e73-4a72-9a76-9f72cdc3c984",
   "metadata": {},
   "outputs": [
    {
     "name": "stdout",
     "output_type": "stream",
     "text": [
      "tello\n"
     ]
    }
   ],
   "source": [
    "# 49.Insert a word at the nth position in a string.\n",
    "string=\"hello\"\n",
    "word=\"t\"\n",
    "n=1\n",
    "result=\"\"\n",
    "for i in range(len(string)):\n",
    "    if i==n-1:\n",
    "        result+=word\n",
    "    else:\n",
    "        result+=string[i]\n",
    "print(result)\n"
   ]
  },
  {
   "cell_type": "code",
   "execution_count": 585,
   "id": "dacb43ee-e5fe-4835-83cc-71d18128bbc3",
   "metadata": {},
   "outputs": [
    {
     "data": {
      "text/plain": [
       "['hello', 'my name is ', ' yash rana']"
      ]
     },
     "execution_count": 585,
     "metadata": {},
     "output_type": "execute_result"
    }
   ],
   "source": [
    "# 50. Convert a CSV string to a list of lists.\n",
    "string=\"hello,my name is , yash rana\"\n",
    "string.split(',')"
   ]
  },
  {
   "cell_type": "code",
   "execution_count": 555,
   "id": "24b83ab7-8011-4cad-beae-4e27f409e438",
   "metadata": {},
   "outputs": [],
   "source": [
    "# LIST\n"
   ]
  },
  {
   "cell_type": "code",
   "execution_count": 591,
   "id": "38f317aa-eb39-4d6c-b366-f6a3fb3395d3",
   "metadata": {},
   "outputs": [
    {
     "data": {
      "text/plain": [
       "[1, 2, 3, 4, 5, 6, 7, 8, 9, 10]"
      ]
     },
     "execution_count": 591,
     "metadata": {},
     "output_type": "execute_result"
    }
   ],
   "source": [
    "# 1. Create a list with integers from 1 to 10.\n",
    "l=list(range(1,11))\n",
    "l"
   ]
  },
  {
   "cell_type": "code",
   "execution_count": 605,
   "id": "78dbfd31-8c3b-4a6b-b0bd-2042411dfdcf",
   "metadata": {},
   "outputs": [
    {
     "name": "stdout",
     "output_type": "stream",
     "text": [
      "11\n"
     ]
    }
   ],
   "source": [
    "# 2. Find the length of a list without using the `len()` function.\n",
    "l=[1, 2, 3, 4, 5, 6, 7, 8, 9,'yash']\n",
    "count=0\n",
    "for i in l:\n",
    "    if i !=\"\":\n",
    "        count+=1\n",
    "print(count)"
   ]
  },
  {
   "cell_type": "code",
   "execution_count": 609,
   "id": "122ec74b-8a2d-4596-8f24-f51b9b992da6",
   "metadata": {},
   "outputs": [
    {
     "data": {
      "text/plain": [
       "[1, 2, 3, 4, 5, 6, 7, 8, 9, 'yash', 4]"
      ]
     },
     "execution_count": 609,
     "metadata": {},
     "output_type": "execute_result"
    }
   ],
   "source": [
    "# 3. Append an element to the end of a list.\n",
    "l=[1, 2, 3, 4, 5, 6, 7, 8, 9,'yash']\n",
    "l.append(4)\n",
    "l"
   ]
  },
  {
   "cell_type": "code",
   "execution_count": 613,
   "id": "233cccba-72fd-480f-bbf3-c2d4146768c7",
   "metadata": {},
   "outputs": [
    {
     "data": {
      "text/plain": [
       "[1, 2, 3, 'frisson', 4, 5, 6, 7, 8, 9, 'yash']"
      ]
     },
     "execution_count": 613,
     "metadata": {},
     "output_type": "execute_result"
    }
   ],
   "source": [
    "# 4. Insert an element at a specific index in a list.\n",
    "l=[1, 2, 3, 4, 5, 6, 7, 8, 9,'yash']\n",
    "l.insert(3,'frisson') # uses index for place to insert value\n",
    "l"
   ]
  },
  {
   "cell_type": "code",
   "execution_count": 630,
   "id": "9f1cc416-bf9d-41d0-a315-66120069f41c",
   "metadata": {},
   "outputs": [
    {
     "data": {
      "text/plain": [
       "[1, 3, 4, 5, 6, 7, 8, 9]"
      ]
     },
     "execution_count": 630,
     "metadata": {},
     "output_type": "execute_result"
    }
   ],
   "source": [
    "# 5. Remove an element from a list by its value.\n",
    "l=[1, 2, 3, 4, 5, 6, 7, 8, 9,'yash']\n",
    "l.remove('yash') # by value\n",
    "l.pop(1) # remove by index\n",
    "l"
   ]
  },
  {
   "cell_type": "code",
   "execution_count": 638,
   "id": "93dc89a7-354d-4d03-a7ac-771807f93866",
   "metadata": {},
   "outputs": [
    {
     "name": "stdout",
     "output_type": "stream",
     "text": [
      "not exist\n"
     ]
    }
   ],
   "source": [
    "# 7. Check if an element exists in a list.\n",
    "l=[1, 2, 3, 4, 5, 6, 7, 8, 9,'yash']\n",
    "e=111\n",
    "if e in l:\n",
    "    print(\"exists in list\")\n",
    "else:\n",
    "    print(\"not exist\")"
   ]
  },
  {
   "cell_type": "code",
   "execution_count": 642,
   "id": "3e4b5047-f84a-4cbd-8638-c7e968977c2a",
   "metadata": {},
   "outputs": [
    {
     "name": "stdout",
     "output_type": "stream",
     "text": [
      "yash is 2\n",
      "frisson is 1\n",
      "world is 1\n",
      "2 is 1\n",
      "1 is 2\n",
      "3 is 1\n"
     ]
    }
   ],
   "source": [
    "# 9. Count the occurrences of an element in a list.\n",
    "l=['yash','frisson','world','yash',2,1,3,1]\n",
    "occur=[]\n",
    "for i in l:\n",
    "    count=0\n",
    "    if i not in occur:\n",
    "        for j in l:\n",
    "            if i==j:\n",
    "                count+=1\n",
    "        print(f\"{i} is {count}\")\n",
    "        occur.append(i)\n",
    "            "
   ]
  },
  {
   "cell_type": "code",
   "execution_count": 672,
   "id": "bf6e7f21-abc4-4260-b9a0-c66cc4fdb491",
   "metadata": {},
   "outputs": [
    {
     "data": {
      "text/plain": [
       "[1, 3, 1, 2, 'yash', 'world', 'frisson', 'yash']"
      ]
     },
     "execution_count": 672,
     "metadata": {},
     "output_type": "execute_result"
    }
   ],
   "source": [
    "# 10. Reverse the order of elements in a list.\n",
    "l=['yash','frisson','world','yash',2,1,3,1]\n",
    "l[::-1]"
   ]
  },
  {
   "cell_type": "code",
   "execution_count": 682,
   "id": "d1da8c31-a5a9-42a9-bf8b-f5a315aa1f2f",
   "metadata": {},
   "outputs": [
    {
     "data": {
      "text/plain": [
       "[1, 1, 6, 8, 9, 34, 56, 56, 98, 845, 8912]"
      ]
     },
     "execution_count": 682,
     "metadata": {},
     "output_type": "execute_result"
    }
   ],
   "source": [
    "# sorting of list\n",
    "l=[56,1,9,845,6,34,8,98,8912,56,1]\n",
    "l.sort()\n",
    "l"
   ]
  },
  {
   "cell_type": "code",
   "execution_count": 686,
   "id": "d1e05b01-d80d-49ba-9d1e-86f4c74aa9f0",
   "metadata": {},
   "outputs": [
    {
     "data": {
      "text/plain": [
       "[8912, 845, 98, 56, 56, 34, 9, 8, 6, 1, 1]"
      ]
     },
     "execution_count": 686,
     "metadata": {},
     "output_type": "execute_result"
    }
   ],
   "source": [
    "# descending\n",
    "l.sort(reverse=True)\n",
    "l"
   ]
  },
  {
   "cell_type": "code",
   "execution_count": 688,
   "id": "fa4a7a5c-d837-4c64-9a1d-ebbf0f745841",
   "metadata": {},
   "outputs": [
    {
     "name": "stdout",
     "output_type": "stream",
     "text": [
      "[2, 4, 6, 8, 10, 12, 14, 16, 18, 20]\n"
     ]
    }
   ],
   "source": [
    "# 13. Create a list of even numbers from 1 to 20.\n",
    "l=[]\n",
    "for i in range(1,21):\n",
    "    if i%2==0:\n",
    "        l.append(i)\n",
    "print(l)"
   ]
  },
  {
   "cell_type": "code",
   "execution_count": 692,
   "id": "2f583002-7156-4133-900d-0ecfc007fc02",
   "metadata": {},
   "outputs": [
    {
     "name": "stdout",
     "output_type": "stream",
     "text": [
      "[1, 3, 5, 7, 9, 11, 13, 15, 17, 19]\n"
     ]
    }
   ],
   "source": [
    "# 14. Create a list of odd numbers from 1 to 20.\n",
    "l=[]\n",
    "for i in range(1,20):\n",
    "    if i % 2 !=0:\n",
    "        l.append(i)\n",
    "print(l)"
   ]
  },
  {
   "cell_type": "code",
   "execution_count": 700,
   "id": "3508e40a-9467-48b9-af9e-99355d0e20f8",
   "metadata": {},
   "outputs": [
    {
     "name": "stdout",
     "output_type": "stream",
     "text": [
      "110\n",
      "20\n",
      "2\n"
     ]
    }
   ],
   "source": [
    "# 15. Find the sum,max,min of all elements in a list.\n",
    "l=[2, 4, 6, 8, 10, 12, 14, 16, 18, 20]\n",
    "s=sum(l) # gives sum \n",
    "m1=max(l) # maximum value\n",
    "m2=min(l) # minimum value\n",
    "print(a)\n",
    "print(m1)\n",
    "print(m2)"
   ]
  },
  {
   "cell_type": "code",
   "execution_count": 726,
   "id": "17ee027f-9bc6-418f-99a7-310e37d255de",
   "metadata": {},
   "outputs": [
    {
     "data": {
      "text/plain": [
       "[1, 4, 9, 16, 25, 36, 49, 64, 81, 100]"
      ]
     },
     "execution_count": 726,
     "metadata": {},
     "output_type": "execute_result"
    }
   ],
   "source": [
    "# 18. Create a list of squares of numbers from 1 to 10.\n",
    "l=[1, 2, 3, 4, 5, 6, 7, 8, 9, 10]\n",
    "x=[i**2 for i in l]\n",
    "print(x)"
   ]
  },
  {
   "cell_type": "code",
   "execution_count": 513,
   "id": "f9c035e3-3221-4419-90c8-5f6172f10376",
   "metadata": {},
   "outputs": [
    {
     "data": {
      "text/plain": [
       "[2, 32, 321, 65, 78, 80, 61, 27, 2, 27]"
      ]
     },
     "execution_count": 513,
     "metadata": {},
     "output_type": "execute_result"
    }
   ],
   "source": [
    "# 19. Create a list of random numbers.\n",
    "l=[2,32,321,65,78,80,61,27,2,27]\n",
    "l"
   ]
  },
  {
   "cell_type": "code",
   "execution_count": 511,
   "id": "198db0e9-ae32-46f5-b485-222bec47a7d4",
   "metadata": {},
   "outputs": [
    {
     "name": "stdout",
     "output_type": "stream",
     "text": [
      "[2, 32, 321, 65, 78, 80, 61, 27]\n"
     ]
    }
   ],
   "source": [
    "# 20. Remove duplicates from a list.\n",
    "l2=[]\n",
    "for i in l:\n",
    "    if i not in l2:\n",
    "        l2.append(i)\n",
    "print(l2)"
   ]
  },
  {
   "cell_type": "code",
   "execution_count": 732,
   "id": "dfe0d21f-db14-44d0-8660-9495bf969596",
   "metadata": {},
   "outputs": [
    {
     "name": "stdout",
     "output_type": "stream",
     "text": [
      "[1, 9]\n"
     ]
    }
   ],
   "source": [
    "# 21. Find the common elements between two lists.\n",
    "l1=[2,4,6,8,1,9]\n",
    "l2=[1,3,5,7,9,11]\n",
    "l3=[]\n",
    "for i in l1:\n",
    "    for j in l2:\n",
    "        if i==j:\n",
    "            l3.append(i)\n",
    "print(l3)"
   ]
  },
  {
   "cell_type": "code",
   "execution_count": 752,
   "id": "e1feff2e-ba67-4ad3-a248-e41e59942eb4",
   "metadata": {},
   "outputs": [
    {
     "name": "stdout",
     "output_type": "stream",
     "text": [
      "[2, 4, 6, 8, 3, 5, 7, 11]\n"
     ]
    }
   ],
   "source": [
    "# 22. Find the difference between two lists.\n",
    "l1=[2,4,6,8,1,9]\n",
    "l2=[1,3,5,7,9,11]\n",
    "l3=[]\n",
    "l4=[]\n",
    "for i in l1:\n",
    "    for j in l2:\n",
    "        if i==j:\n",
    "            l3.append(i)\n",
    "c=l1+l2\n",
    "for k in c:\n",
    "    if k not in l3:\n",
    "        l4.append(k)\n",
    "print(l4)"
   ]
  },
  {
   "cell_type": "code",
   "execution_count": 758,
   "id": "dceaf047-a2c6-4a64-b55d-62a407cde1bf",
   "metadata": {},
   "outputs": [
    {
     "name": "stdout",
     "output_type": "stream",
     "text": [
      "[2, 4, 6, 8, 1, 9, 1, 3, 5, 7, 9, 11]\n",
      "[2, 4, 6, 8, 1, 9, 2, 4, 6, 8, 1, 9]\n"
     ]
    }
   ],
   "source": [
    "# 23. Merge two lists.\n",
    "l1=[2,4,6,8,1,9]\n",
    "l2=[1,3,5,7,9,11]\n",
    "print(l1+l2) \n",
    "# 24. multiply by 2\n",
    "print(l1*2)"
   ]
  },
  {
   "cell_type": "code",
   "execution_count": 760,
   "id": "0e9fc465-0254-42fd-9300-a58f24e919ce",
   "metadata": {},
   "outputs": [
    {
     "name": "stdout",
     "output_type": "stream",
     "text": [
      "[2, 4, 6, 8]\n"
     ]
    }
   ],
   "source": [
    "# 25. Filter out all even numbers from a list.\n",
    "l1=[2,4,6,8,1,9]\n",
    "l2=[]\n",
    "for i in l1:\n",
    "    if i%2==0:\n",
    "        l2.append(i)\n",
    "print(l2)"
   ]
  },
  {
   "cell_type": "code",
   "execution_count": 768,
   "id": "cdb4cb16-6fce-4fd2-99ad-b907af352fa0",
   "metadata": {},
   "outputs": [
    {
     "name": "stdout",
     "output_type": "stream",
     "text": [
      "[36, 1, 54, 87]\n"
     ]
    }
   ],
   "source": [
    "# 26. Convert a list of strings to a list of integers.\n",
    "l1=['36','1','54','87']\n",
    "l2=[int(i) for i in l1]\n",
    "print(l2)"
   ]
  },
  {
   "cell_type": "code",
   "execution_count": 764,
   "id": "d654ce91-f4ff-4f3e-b66a-02ba9cddab88",
   "metadata": {},
   "outputs": [
    {
     "name": "stdout",
     "output_type": "stream",
     "text": [
      "['12', '1', '54', '87']\n"
     ]
    }
   ],
   "source": [
    "# 27. Convert a list of integers to a list of strings.\n",
    "l1=[12, 1, 54, 87]\n",
    "l2=[str(i) for i in l1]\n",
    "print(l2)"
   ]
  },
  {
   "cell_type": "code",
   "execution_count": 774,
   "id": "a5ce3225-bee5-4ce7-9972-eef4ae12ab39",
   "metadata": {},
   "outputs": [
    {
     "name": "stdout",
     "output_type": "stream",
     "text": [
      "[3, 6, 1, 5, 4, 8, 7]\n"
     ]
    }
   ],
   "source": [
    "# 28, flatten nested list \n",
    "l=[[1,2],[4,9],[5,6]]\n",
    "l2=[]\n",
    "for i in l1:\n",
    "    for j in i:\n",
    "        l2.append(int(j))\n",
    "print(l2)"
   ]
  },
  {
   "cell_type": "code",
   "execution_count": 778,
   "id": "15482913-fa31-45dc-9fde-5abfb3ec0b76",
   "metadata": {},
   "outputs": [
    {
     "name": "stdout",
     "output_type": "stream",
     "text": [
      "[0, 1, 1, 2, 3, 5, 8, 13, 21, 34, 55]\n"
     ]
    }
   ],
   "source": [
    "# 29. Create a list of the first 10 Fibonacci numbers.\n",
    "l=[]\n",
    "for i in range(11):\n",
    "    if i == 0 or i==1:\n",
    "        l.append(i)\n",
    "    else:\n",
    "        l.append(l[i-1]+l[i-2])\n",
    "print(l)"
   ]
  },
  {
   "cell_type": "code",
   "execution_count": 786,
   "id": "d8a09346-ffcc-4db4-9002-8224b0f926d5",
   "metadata": {},
   "outputs": [
    {
     "name": "stdout",
     "output_type": "stream",
     "text": [
      "sorted\n"
     ]
    }
   ],
   "source": [
    "# 30. Check if a list is sorted.\n",
    "l=[2,5,7,8,10]\n",
    "a=sorted(l)\n",
    "if l == a:\n",
    "    print('sorted')\n",
    "else:\n",
    "    print('not sorted')"
   ]
  },
  {
   "cell_type": "code",
   "execution_count": 1,
   "id": "9ef959fd-60fe-450d-9182-5f7ef0fe98ba",
   "metadata": {},
   "outputs": [
    {
     "data": {
      "text/plain": [
       "[1, 2, 3, 5, 8, 13, 21, 34, 55, 0, 1]"
      ]
     },
     "execution_count": 1,
     "metadata": {},
     "output_type": "execute_result"
    }
   ],
   "source": [
    "# 31. Rotate a list to the left by `n` positions.\n",
    "l=[0, 1, 1, 2, 3, 5, 8, 13, 21, 34, 55]\n",
    "k=2\n",
    "l[k:]+l[:k]"
   ]
  },
  {
   "cell_type": "code",
   "execution_count": 7,
   "id": "89aead59-4771-4375-851d-69a65acbe9f1",
   "metadata": {},
   "outputs": [
    {
     "data": {
      "text/plain": [
       "[13, 21, 34, 55, 0, 1, 1, 2, 3, 5, 8]"
      ]
     },
     "execution_count": 7,
     "metadata": {},
     "output_type": "execute_result"
    }
   ],
   "source": [
    "# 32. Rotate a list to the right by `n` positions.\n",
    "l=[0, 1, 1, 2, 3, 5, 8, 13, 21, 34, 55]\n",
    "k=4\n",
    "l[-k:]+l[:-k]"
   ]
  },
  {
   "cell_type": "code",
   "execution_count": 21,
   "id": "98f03af4-2281-4175-92d9-c3d5986b4571",
   "metadata": {},
   "outputs": [
    {
     "name": "stdout",
     "output_type": "stream",
     "text": [
      "[2, 3, 5, 7, 11, 13, 17, 19, 23, 25, 49]\n"
     ]
    }
   ],
   "source": [
    "# 33. Create a list of prime numbers up to 50.\n",
    "l=[]\n",
    "for i in range(2,50):\n",
    "    count=0\n",
    "    for j in range(2,25):\n",
    "        if i%j==0:\n",
    "            count+=1\n",
    "    if count == 1:\n",
    "        l.append(i)\n",
    "print(l)"
   ]
  },
  {
   "cell_type": "code",
   "execution_count": 35,
   "id": "fc5fedd1-9b58-4457-97e1-caf64368009c",
   "metadata": {},
   "outputs": [
    {
     "name": "stdout",
     "output_type": "stream",
     "text": [
      "[[13, 21, 34], [55, 0, 1], [1, 2, 3], [5, 8, 9], [0]]\n"
     ]
    }
   ],
   "source": [
    "# 34. Split a list into chunks of size `n`.\n",
    "l=[13, 21, 34, 55, 0, 1, 1, 2, 3, 5, 8,9,0]\n",
    "n=3\n",
    "l1=[]\n",
    "for i in range(0,len(l),n):\n",
    "    l1.append(l[i:i+n])\n",
    "print(l1)"
   ]
  },
  {
   "cell_type": "code",
   "execution_count": 81,
   "id": "b4b803d7-3359-409e-8e02-a24fd03f438c",
   "metadata": {},
   "outputs": [
    {
     "data": {
      "text/plain": [
       "34"
      ]
     },
     "execution_count": 81,
     "metadata": {},
     "output_type": "execute_result"
    }
   ],
   "source": [
    "# 35. Find the second largest number in a list.\n",
    "l=[13, 21, 34, 55, 0, 1, 1, 2, 3, 5, 8,9,0]\n",
    "l.sort(reverse=True)\n",
    "l[1]"
   ]
  },
  {
   "cell_type": "code",
   "execution_count": 83,
   "id": "6a7bda40-6237-49e8-948d-a52585e31ca1",
   "metadata": {},
   "outputs": [
    {
     "data": {
      "text/plain": [
       "[169, 441, 1156, 3025, 0, 1, 1, 4, 9, 25, 64, 81, 0]"
      ]
     },
     "execution_count": 83,
     "metadata": {},
     "output_type": "execute_result"
    }
   ],
   "source": [
    "# 36. Replace every element in a list with its square.\n",
    "l=[13, 21, 34, 55, 0, 1, 1, 2, 3, 5, 8,9,0]\n",
    "l1=[i**2 for i in l]\n",
    "l1"
   ]
  },
  {
   "cell_type": "code",
   "execution_count": 103,
   "id": "a8798e19-ef10-437e-955a-3ae7699348f9",
   "metadata": {},
   "outputs": [
    {
     "name": "stdout",
     "output_type": "stream",
     "text": [
      "{'rahul': 0, 'devhub': 1, 'yash': 2, 'frisson': 3}\n"
     ]
    }
   ],
   "source": [
    "# 37. Convert a list to a dictionary where list elements become keys and their indices become values.\n",
    "l=['rahul','devhub','yash','frisson']\n",
    "l2=[l.index(i) for i in l]\n",
    "d=dict(zip(l,l2))\n",
    "print(d)"
   ]
  },
  {
   "cell_type": "code",
   "execution_count": 107,
   "id": "dfb81cdc-63cc-455f-b57c-aa3b5e79e829",
   "metadata": {},
   "outputs": [
    {
     "data": {
      "text/plain": [
       "{'devhub', 'frisson', 'rahul', 'yash'}"
      ]
     },
     "execution_count": 107,
     "metadata": {},
     "output_type": "execute_result"
    }
   ],
   "source": [
    "# 38. Shuffle the elements of a list randomly.\n",
    "l=['rahul','devhub','yash','frisson']\n",
    "s=set(l)\n",
    "s"
   ]
  },
  {
   "cell_type": "code",
   "execution_count": 109,
   "id": "6d64b501-6e4f-4671-84f9-0335176ead2b",
   "metadata": {},
   "outputs": [
    {
     "name": "stdout",
     "output_type": "stream",
     "text": [
      "[0, 1, 2, 6, 24, 120, 720, 5040, 40320, 362880, 3628800]\n"
     ]
    }
   ],
   "source": [
    "# 39. Create a list of the first 10 factorial numbers.\n",
    "l=[]\n",
    "n=10\n",
    "for i in range(0,n+1):\n",
    "    if i<=1:\n",
    "        l.append(i)\n",
    "    else:\n",
    "        i=i*(l[i-1])\n",
    "        l.append(i)\n",
    "print(l)"
   ]
  },
  {
   "cell_type": "code",
   "execution_count": 125,
   "id": "910ce7f5-b172-42b9-83a5-f8093e4a9c88",
   "metadata": {},
   "outputs": [
    {
     "name": "stdout",
     "output_type": "stream",
     "text": [
      "atleast one common\n"
     ]
    }
   ],
   "source": [
    "# 40. Check if two lists have at least one element in common.\n",
    "l=[1,2,3,4]\n",
    "l2=[5,6,7,3,2,1]\n",
    "l3=[]\n",
    "for i in l:\n",
    "    count=0\n",
    "    for j in l2:\n",
    "        if i==j:\n",
    "            count+=1\n",
    "    if count == 1:\n",
    "        l3.append(i)\n",
    "if len(l3):\n",
    "    print(\"atleast one common\")\n",
    "else:\n",
    "    print(\"no common\")"
   ]
  },
  {
   "cell_type": "code",
   "execution_count": 155,
   "id": "da642ca5-623b-42cc-b9b8-904b4043ec0a",
   "metadata": {},
   "outputs": [
    {
     "data": {
      "text/plain": [
       "[]"
      ]
     },
     "execution_count": 155,
     "metadata": {},
     "output_type": "execute_result"
    }
   ],
   "source": [
    "# 41. Remove all elements from a list.\n",
    "l=[1,2,3,4]\n",
    "l.clear()\n",
    "l"
   ]
  },
  {
   "cell_type": "code",
   "execution_count": 169,
   "id": "ea3c6151-d439-4c3a-8992-4e1e54409191",
   "metadata": {},
   "outputs": [
    {
     "name": "stdout",
     "output_type": "stream",
     "text": [
      "[1, 2, 0, 4, 0, 0, 10, 0]\n"
     ]
    }
   ],
   "source": [
    "# 42. Replace negative numbers in a list with 0.\n",
    "l=[1,2,-5,4,-9,0,10,-6]\n",
    "for i in range(len(l)):\n",
    "    if l[i] < 0:\n",
    "        l[i]=0\n",
    "print(l)"
   ]
  },
  {
   "cell_type": "code",
   "execution_count": 171,
   "id": "894cebdf-de57-406c-bc07-5380d473d3fe",
   "metadata": {},
   "outputs": [
    {
     "data": {
      "text/plain": [
       "['h', 'e', 'l', 'l', 'o']"
      ]
     },
     "execution_count": 171,
     "metadata": {},
     "output_type": "execute_result"
    }
   ],
   "source": [
    "# 43. Convert a string into a list of words.\n",
    "s=\"hello\"\n",
    "l=list(s)\n",
    "l"
   ]
  },
  {
   "cell_type": "code",
   "execution_count": 275,
   "id": "5161977c-9304-438a-9f22-c630a49738f3",
   "metadata": {},
   "outputs": [
    {
     "name": "stdout",
     "output_type": "stream",
     "text": [
      "hello\n"
     ]
    }
   ],
   "source": [
    "# 44. Convert a list of words into a string.\n",
    "l=['h', 'e', 'l', 'l', 'o']\n",
    "s=\"\"\n",
    "for i in l:\n",
    "    s+=i\n",
    "print(s)\n",
    "\n"
   ]
  },
  {
   "cell_type": "code",
   "execution_count": 213,
   "id": "bee64eb0-b5c8-4c63-bc9a-4096ab8f8210",
   "metadata": {},
   "outputs": [
    {
     "name": "stdout",
     "output_type": "stream",
     "text": [
      "devhubbbb\n"
     ]
    }
   ],
   "source": [
    "# 46. Find the longest string in a list of strings.\n",
    "l=['rahul','devhubbbb','yash','frisson']\n",
    "l2=\"\"\n",
    "for i in range(len(l)):\n",
    "    if len(l[i])>len(l2):\n",
    "        l2=l[i]\n",
    "print(l2)"
   ]
  },
  {
   "cell_type": "code",
   "execution_count": 211,
   "id": "64f14a29-3909-47d1-ab00-a4e83c5b9ff0",
   "metadata": {},
   "outputs": [
    {
     "name": "stdout",
     "output_type": "stream",
     "text": [
      "yash\n"
     ]
    }
   ],
   "source": [
    "# 47. Find the shortest string in a list of strings.\n",
    "l=['rahul','devhubbbb','yash','frisson']\n",
    "l2=l[0]\n",
    "for i in range(len(l)):\n",
    "    if len(l[i])<len(l2):\n",
    "        l2=l[i]\n",
    "print(l2)"
   ]
  },
  {
   "cell_type": "code",
   "execution_count": 551,
   "id": "10160cad-99e4-45ad-9245-2a6aa0be2c83",
   "metadata": {},
   "outputs": [],
   "source": [
    "# TUPLE  \n"
   ]
  },
  {
   "cell_type": "code",
   "execution_count": 231,
   "id": "93a4b1d9-d4a5-46bc-a030-374e93810956",
   "metadata": {},
   "outputs": [
    {
     "data": {
      "text/plain": [
       "(1, 2, 3, 4, 5)"
      ]
     },
     "execution_count": 231,
     "metadata": {},
     "output_type": "execute_result"
    }
   ],
   "source": [
    "# 1. Create a tuple with integers from 1 to 5.\n",
    "t=(1,2,3,4,5)\n",
    "t"
   ]
  },
  {
   "cell_type": "code",
   "execution_count": 233,
   "id": "58bcc118-9cf6-41ec-9c9b-f122c2781e36",
   "metadata": {},
   "outputs": [
    {
     "data": {
      "text/plain": [
       "3"
      ]
     },
     "execution_count": 233,
     "metadata": {},
     "output_type": "execute_result"
    }
   ],
   "source": [
    "# 2. Access the third element of a tuple.\n",
    "t[2]"
   ]
  },
  {
   "cell_type": "code",
   "execution_count": 245,
   "id": "bc92d8b0-6132-4887-9f18-837ce244fd2c",
   "metadata": {},
   "outputs": [
    {
     "name": "stdout",
     "output_type": "stream",
     "text": [
      "6\n"
     ]
    }
   ],
   "source": [
    "# 3. Find the length of a tuple without using the `len()` function.\n",
    "t=(1,2,3,4,5,8,\" \")\n",
    "count=0\n",
    "for i in t:\n",
    "    if i != \" \":\n",
    "        count+=1\n",
    "print(count)"
   ]
  },
  {
   "cell_type": "code",
   "execution_count": 259,
   "id": "1aad604d-a13d-4bb1-8c8a-6fd10084deb1",
   "metadata": {},
   "outputs": [
    {
     "name": "stdout",
     "output_type": "stream",
     "text": [
      "h is 2\n",
      "e is 2\n",
      "l is 2\n",
      "o is 2\n",
      "  is 2\n",
      "f is 1\n",
      "r is 1\n",
      "i is 1\n",
      "s is 2\n",
      "n is 1\n",
      "d is 1\n",
      "v is 1\n",
      "u is 1\n",
      "b is 1\n"
     ]
    }
   ],
   "source": [
    "# 4. Count the occurrences of an element in a tuple.\n",
    "t=('hello frisson devhub')\n",
    "occur=\"\"\n",
    "for i in t:\n",
    "    count=0\n",
    "    for j in t:\n",
    "        if i==j:\n",
    "            count+=1\n",
    "    if i not in occur:\n",
    "        print(f\"{i} is {count}\")\n",
    "        occur+=i"
   ]
  },
  {
   "cell_type": "code",
   "execution_count": 261,
   "id": "80c2f867-07b0-437a-9e9f-dbc13f291b1c",
   "metadata": {},
   "outputs": [],
   "source": [
    "# 5. Find the index of the first occurrence of an element in a tuple.\n"
   ]
  },
  {
   "cell_type": "code",
   "execution_count": 267,
   "id": "3e3cf333-bf77-4dc2-8b64-7a87a0666f88",
   "metadata": {},
   "outputs": [
    {
     "name": "stdout",
     "output_type": "stream",
     "text": [
      "not exists\n"
     ]
    }
   ],
   "source": [
    "# 6. Check if an element exists in a tuple.\n",
    "t=('hello frisson devhub')\n",
    "n='a'\n",
    "if n in t:\n",
    "    print (\"exists\")\n",
    "else:\n",
    "    print(\"not exists\")"
   ]
  },
  {
   "cell_type": "code",
   "execution_count": 533,
   "id": "9b608267-4839-40be-9a4b-cae64ecb0f20",
   "metadata": {},
   "outputs": [
    {
     "data": {
      "text/plain": [
       "['h', 'e', 'l', 'l', 'o']"
      ]
     },
     "execution_count": 533,
     "metadata": {},
     "output_type": "execute_result"
    }
   ],
   "source": [
    "# 7. Convert a tuple to a list.\n",
    "t=('hello')\n",
    "l=list(t)\n",
    "l"
   ]
  },
  {
   "cell_type": "code",
   "execution_count": 271,
   "id": "50289981-d250-4709-89b9-8bd8443e4063",
   "metadata": {},
   "outputs": [
    {
     "data": {
      "text/plain": [
       "('rahul', 'devhub', 'yash', 'frisson')"
      ]
     },
     "execution_count": 271,
     "metadata": {},
     "output_type": "execute_result"
    }
   ],
   "source": [
    "# 8. Convert a list to a tuple.\n",
    "l=['rahul','devhub','yash','frisson']\n",
    "t=tuple(l)\n",
    "t"
   ]
  },
  {
   "cell_type": "code",
   "execution_count": 281,
   "id": "4393f169-d42b-4eb1-9f1b-b5c30897ad1a",
   "metadata": {},
   "outputs": [
    {
     "data": {
      "text/plain": [
       "(2, 4, 6, 8, 10)"
      ]
     },
     "execution_count": 281,
     "metadata": {},
     "output_type": "execute_result"
    }
   ],
   "source": [
    "# 10. Create a tuple of even numbers from 1 to 10.\n",
    "l=[]\n",
    "for i in range(1,11):\n",
    "    if i%2==0:\n",
    "        l.append(i)\n",
    "t=tuple(l)\n",
    "t"
   ]
  },
  {
   "cell_type": "code",
   "execution_count": 283,
   "id": "65deffff-861d-4366-a0ab-ef4b8961d912",
   "metadata": {},
   "outputs": [
    {
     "data": {
      "text/plain": [
       "(1, 3, 5, 7, 9)"
      ]
     },
     "execution_count": 283,
     "metadata": {},
     "output_type": "execute_result"
    }
   ],
   "source": [
    "# 11. Create a tuple of odd numbers from 1 to 10.\n",
    "l=[]\n",
    "for i in range(1,11):\n",
    "    if i%2!=0:\n",
    "        l.append(i)\n",
    "t=tuple(l)\n",
    "t"
   ]
  },
  {
   "cell_type": "code",
   "execution_count": 285,
   "id": "1b7b3a86-8c6b-4cf1-824b-366f0bb810e1",
   "metadata": {},
   "outputs": [
    {
     "data": {
      "text/plain": [
       "(1, 2, 3, 4, 6, 7, 8, 9)"
      ]
     },
     "execution_count": 285,
     "metadata": {},
     "output_type": "execute_result"
    }
   ],
   "source": [
    "# 12. Concatenate two tuples.\n",
    "t1=(1,2,3,4)\n",
    "t2=(6,7,8,9)\n",
    "t1+t2"
   ]
  },
  {
   "cell_type": "code",
   "execution_count": 289,
   "id": "3e29d3d1-66cf-42a4-a9bb-2baf91ca0a3c",
   "metadata": {},
   "outputs": [
    {
     "data": {
      "text/plain": [
       "(1, 2, 3, 4, 1, 2, 3, 4, 1, 2, 3, 4)"
      ]
     },
     "execution_count": 289,
     "metadata": {},
     "output_type": "execute_result"
    }
   ],
   "source": [
    "# 13. Repeat a tuple three times.\n",
    "t1=(1,2,3,4)\n",
    "t1*3"
   ]
  },
  {
   "cell_type": "code",
   "execution_count": 295,
   "id": "987042a5-eb08-403e-9a69-2f589b84741d",
   "metadata": {},
   "outputs": [
    {
     "name": "stdout",
     "output_type": "stream",
     "text": [
      "empty\n"
     ]
    }
   ],
   "source": [
    "# 14. Check if a tuple is empty.\n",
    "t1=()\n",
    "if not len(t1):\n",
    "    print('empty')\n",
    "else:\n",
    "    print(\"not empty\")"
   ]
  },
  {
   "cell_type": "code",
   "execution_count": 305,
   "id": "6c98b881-0132-4a20-9204-2c20a4c72778",
   "metadata": {},
   "outputs": [
    {
     "data": {
      "text/plain": [
       "((1, 3), (4, 2), (6, 5))"
      ]
     },
     "execution_count": 305,
     "metadata": {},
     "output_type": "execute_result"
    }
   ],
   "source": [
    "# 15. Create a nested tuple.\n",
    "t=((1,3),(4,2),(6,5))\n",
    "t"
   ]
  },
  {
   "cell_type": "code",
   "execution_count": 307,
   "id": "218875b3-f9f2-476a-9d26-5025bbdede84",
   "metadata": {},
   "outputs": [
    {
     "data": {
      "text/plain": [
       "1"
      ]
     },
     "execution_count": 307,
     "metadata": {},
     "output_type": "execute_result"
    }
   ],
   "source": [
    "# 16. Access the first element of a nested tuple\n",
    "t=((1,3),(4,2),(6,5))\n",
    "t1=[j for i in t for j in i]\n",
    "t1[0]"
   ]
  },
  {
   "cell_type": "code",
   "execution_count": 311,
   "id": "2d3a6474-e6c5-49b6-b5e8-4626894f3bc1",
   "metadata": {},
   "outputs": [
    {
     "data": {
      "text/plain": [
       "1"
      ]
     },
     "execution_count": 311,
     "metadata": {},
     "output_type": "execute_result"
    }
   ],
   "source": [
    "# 17. Create a tuple with a single element.\n",
    "t=(1)\n",
    "t"
   ]
  },
  {
   "cell_type": "code",
   "execution_count": 381,
   "id": "2cbee53e-5f77-4fa0-9086-623ba1ed6da7",
   "metadata": {},
   "outputs": [],
   "source": [
    "# 19. delete a tuple\n",
    "t1=(1,2,3,4)\n",
    "del (t1)"
   ]
  },
  {
   "cell_type": "code",
   "execution_count": 330,
   "id": "763b2ed0-5369-4580-93cb-680af5a32c6e",
   "metadata": {},
   "outputs": [
    {
     "data": {
      "text/plain": [
       "(2, 3)"
      ]
     },
     "execution_count": 330,
     "metadata": {},
     "output_type": "execute_result"
    }
   ],
   "source": [
    "# 20. slicing in tuple\n",
    "t1=(1,2,3,4)\n",
    "t1[1:3]\n"
   ]
  },
  {
   "cell_type": "code",
   "execution_count": 365,
   "id": "f601dc71-2630-4afe-840c-1d2de6c70a75",
   "metadata": {},
   "outputs": [
    {
     "name": "stdout",
     "output_type": "stream",
     "text": [
      "55\n",
      "0\n"
     ]
    }
   ],
   "source": [
    "# 21. maximum and minimum in tuple\n",
    "t1=(2,7,6,55,3,0,54)\n",
    "print(max(t1))\n",
    "print(min(t1))"
   ]
  },
  {
   "cell_type": "code",
   "execution_count": 537,
   "id": "092b5b97-a9ed-474a-8b7d-911f50057139",
   "metadata": {},
   "outputs": [
    {
     "name": "stdout",
     "output_type": "stream",
     "text": [
      "('h', 'e', 'l', 'l', 'o')\n"
     ]
    }
   ],
   "source": [
    "# 23. Convert a string to a tuple of characters.\n",
    "s=\"hello\"\n",
    "t=tuple(s)\n",
    "print(t)"
   ]
  },
  {
   "cell_type": "code",
   "execution_count": 395,
   "id": "038ff636-0931-4f04-849d-586418d30de7",
   "metadata": {},
   "outputs": [
    {
     "name": "stdout",
     "output_type": "stream",
     "text": [
      "hello\n"
     ]
    }
   ],
   "source": [
    "# 24.Convert a tuple of characters to a string\n",
    "t=('h', 'e', 'l', 'l', 'o')\n",
    "s=''.join(t)\n",
    "print(s)"
   ]
  },
  {
   "cell_type": "code",
   "execution_count": 399,
   "id": "85450c0e-cf9d-4a60-8a1d-322c78b2447c",
   "metadata": {},
   "outputs": [
    {
     "name": "stdout",
     "output_type": "stream",
     "text": [
      "('yash', 1, 2, 'frisson')\n"
     ]
    },
    {
     "data": {
      "text/plain": [
       "tuple"
      ]
     },
     "execution_count": 399,
     "metadata": {},
     "output_type": "execute_result"
    }
   ],
   "source": [
    "# 25. Create a tuple from multiple data types\n",
    "t=('yash',1,2,'frisson')\n",
    "print(t)\n",
    "type(t)"
   ]
  },
  {
   "cell_type": "code",
   "execution_count": 401,
   "id": "7ac2d0ae-1fa6-4804-80d5-cda8cfcf427c",
   "metadata": {},
   "outputs": [
    {
     "data": {
      "text/plain": [
       "False"
      ]
     },
     "execution_count": 401,
     "metadata": {},
     "output_type": "execute_result"
    }
   ],
   "source": [
    "# 26. Check if two tuples are identical.\n",
    "t1=(1,2,3,4,5)\n",
    "t2=(1,3,23,4,5)\n",
    "t1==t2"
   ]
  },
  {
   "cell_type": "code",
   "execution_count": 409,
   "id": "9881f196-e8d1-419d-b4c5-0f678e3e4f04",
   "metadata": {},
   "outputs": [
    {
     "name": "stdout",
     "output_type": "stream",
     "text": [
      "(1, 3, 4, 5, 23)\n"
     ]
    }
   ],
   "source": [
    "# 27. Sort the elements of a tuple.\n",
    "t2=(1,3,23,4,5)\n",
    "s=sorted(t2)\n",
    "print(tuple(s))"
   ]
  },
  {
   "cell_type": "code",
   "execution_count": 387,
   "id": "1cb9bc08-d511-416a-a59b-27ef502f4821",
   "metadata": {},
   "outputs": [
    {
     "name": "stdout",
     "output_type": "stream",
     "text": [
      "('1', '2', '3', '4')\n"
     ]
    }
   ],
   "source": [
    "# 28. convert a tuple of intger to str\n",
    "t=(1,2,3,4)\n",
    "l=[]\n",
    "for i in t:\n",
    "    l.append(str(i))\n",
    "print(tuple(l))"
   ]
  },
  {
   "cell_type": "code",
   "execution_count": 363,
   "id": "eb15e4bf-9078-4c4d-8e4e-3222a0f58ea3",
   "metadata": {},
   "outputs": [
    {
     "name": "stdout",
     "output_type": "stream",
     "text": [
      "(1, 2, 3, 4)\n"
     ]
    }
   ],
   "source": [
    "# 29. convert a tuple of intger to str\n",
    "t=('1','2','3','4')\n",
    "l=[]\n",
    "for i in t:\n",
    "    l.append(int(i))\n",
    "print(tuple(l))"
   ]
  },
  {
   "cell_type": "code",
   "execution_count": 415,
   "id": "d29cfe30-392d-468a-bd3c-3628ecee1f4d",
   "metadata": {},
   "outputs": [
    {
     "data": {
      "text/plain": [
       "(1, 2, 3, 4, 5, 'yash', 'frisson')"
      ]
     },
     "execution_count": 415,
     "metadata": {},
     "output_type": "execute_result"
    }
   ],
   "source": [
    "# 30. Merge two tuples.\n",
    "t1=(1,2,3,4,5)\n",
    "t2=('yash','frisson')\n",
    "t1+t2"
   ]
  },
  {
   "cell_type": "code",
   "execution_count": 423,
   "id": "699a5b65-44bf-4089-a06a-58ab36209a3e",
   "metadata": {},
   "outputs": [
    {
     "name": "stdout",
     "output_type": "stream",
     "text": [
      "(1, 3, 4, 2, 5, 6)\n"
     ]
    }
   ],
   "source": [
    "# 31. Flatten a nested tuple.\n",
    "t=((1,3),(4,2),(5,6))\n",
    "t1=[item for i in t for item in i]\n",
    "print(tuple(t1))"
   ]
  },
  {
   "cell_type": "code",
   "execution_count": 425,
   "id": "bb43fe88-2512-4a2d-b7f8-c5e34fa6fec5",
   "metadata": {},
   "outputs": [
    {
     "data": {
      "text/plain": [
       "(1, 2, 3, 5, 7)"
      ]
     },
     "execution_count": 425,
     "metadata": {},
     "output_type": "execute_result"
    }
   ],
   "source": [
    "# 32. Create a tuple of the first 5 prime numbers.\n",
    "s=(1,2,3,5,7)\n",
    "s"
   ]
  },
  {
   "cell_type": "code",
   "execution_count": 433,
   "id": "5cf3f534-848f-4cfc-b5b7-c8b307a693df",
   "metadata": {},
   "outputs": [
    {
     "data": {
      "text/plain": [
       "True"
      ]
     },
     "execution_count": 433,
     "metadata": {},
     "output_type": "execute_result"
    }
   ],
   "source": [
    "# 33. Check if a tuple is a palindrome.\n",
    "t=('nitin')\n",
    "t==t[::-1]"
   ]
  },
  {
   "cell_type": "code",
   "execution_count": 437,
   "id": "99979501-789c-46de-a768-6030349f6767",
   "metadata": {},
   "outputs": [
    {
     "data": {
      "text/plain": [
       "(1, 4, 9, 16, 25)"
      ]
     },
     "execution_count": 437,
     "metadata": {},
     "output_type": "execute_result"
    }
   ],
   "source": [
    "# 34. Create a tuple of squares of numbers from 1 to 5.\n",
    "t=(1,4,9,16,25)\n",
    "t"
   ]
  },
  {
   "cell_type": "code",
   "execution_count": 439,
   "id": "3cff2a58-214f-40f3-9f97-1ca4fae8bf5c",
   "metadata": {},
   "outputs": [
    {
     "name": "stdout",
     "output_type": "stream",
     "text": [
      "(6, 8, 10)\n"
     ]
    }
   ],
   "source": [
    "# 35. Filter out all even numbers from a tuple.\n",
    "t=(1,6,7,8,81,9,10,5,23)\n",
    "l=[]\n",
    "for i in t:\n",
    "    if i%2==0:\n",
    "        l.append(i)\n",
    "print(tuple(l))"
   ]
  },
  {
   "cell_type": "code",
   "execution_count": 443,
   "id": "88f9e4be-1541-40ee-ad57-4fbbd3d7029a",
   "metadata": {},
   "outputs": [
    {
     "name": "stdout",
     "output_type": "stream",
     "text": [
      "(2, 12, 14, 16, 162, 18, 20, 10, 46)\n"
     ]
    }
   ],
   "source": [
    "# 36. Multiply all elements in a tuple by 2.\n",
    "t=(1,6,7,8,81,9,10,5,23)\n",
    "l=[i*2 for i in t]\n",
    "print(tuple(l))"
   ]
  },
  {
   "cell_type": "code",
   "execution_count": 451,
   "id": "14c2faaa-907b-4e95-a643-08d964aa663e",
   "metadata": {},
   "outputs": [
    {
     "name": "stdout",
     "output_type": "stream",
     "text": [
      "(1, 213, 14, 23525, 423, 133, 123, 4, 342, 32)\n"
     ]
    }
   ],
   "source": [
    "# 37. Create a tuple of random numbers.\n",
    "t=(1,213,14,23525,423,133,123,4,342,32)\n",
    "print(t)"
   ]
  },
  {
   "cell_type": "code",
   "execution_count": 465,
   "id": "4bd6b319-27dc-4d4e-af6c-804024a9965a",
   "metadata": {},
   "outputs": [
    {
     "name": "stdout",
     "output_type": "stream",
     "text": [
      "sorted tuple\n",
      "[1, 23, 56, 78, 99]\n"
     ]
    }
   ],
   "source": [
    "# 38. Check if a tuple is sorted.\n",
    "t=(1,23,56,78,99)\n",
    "s=sorted(t)\n",
    "if t==tuple(s):\n",
    "    print(\"sorted tuple\")\n",
    "else:\n",
    "    print(\"not sorted\")\n",
    "print(s)"
   ]
  },
  {
   "cell_type": "code",
   "execution_count": 477,
   "id": "3cf5919b-89c5-4f8f-9d06-a368825c34c2",
   "metadata": {},
   "outputs": [
    {
     "name": "stdout",
     "output_type": "stream",
     "text": [
      "(56, 78, 99, 1, 23)\n"
     ]
    }
   ],
   "source": [
    "# 39. Rotate a tuple to the left by `n` positions.\n",
    "t=(1,23,56,78,99)\n",
    "n=2\n",
    "l=t[n:]+t[:n]\n",
    "print(tuple(l))"
   ]
  },
  {
   "cell_type": "code",
   "execution_count": 491,
   "id": "10aa2562-f37d-431d-98d7-4f4bf58f546d",
   "metadata": {},
   "outputs": [
    {
     "name": "stdout",
     "output_type": "stream",
     "text": [
      "(56, 78, 99, 1, 23)\n"
     ]
    }
   ],
   "source": [
    "# 40. Rotate a tuple to the right by `n` positions.\n",
    "t=(1,23,56,78,99)\n",
    "n=3\n",
    "r=t[-n:]+t[:-n]\n",
    "print(tuple(r))"
   ]
  },
  {
   "cell_type": "code",
   "execution_count": 495,
   "id": "44006502-45b7-4455-bb92-3f8adc0108bf",
   "metadata": {},
   "outputs": [
    {
     "name": "stdout",
     "output_type": "stream",
     "text": [
      "(0, 1, 1, 2, 3)\n"
     ]
    }
   ],
   "source": [
    "# 41. Create a tuple of the first 5 Fibonacci numbers.\n",
    "l=[]\n",
    "for i in range(0,5):\n",
    "    if i<=1:\n",
    "        l.append(i)\n",
    "    else:\n",
    "        l.append(l[i-1]+l[i-2])\n",
    "print(tuple(l))"
   ]
  },
  {
   "cell_type": "code",
   "execution_count": 499,
   "id": "be53bc11-6f61-4228-be25-e577704485bd",
   "metadata": {},
   "outputs": [
    {
     "name": "stdin",
     "output_type": "stream",
     "text": [
      "enter the size of tuple 2\n",
      "enter the value for tuple 'yash'\n",
      "enter the value for tuple 5\n"
     ]
    },
    {
     "name": "stdout",
     "output_type": "stream",
     "text": [
      "('yash', 5)\n"
     ]
    }
   ],
   "source": [
    "# 42. Create a tuple from user input.\n",
    "l=[]\n",
    "x=int(input(\"enter the size of tuple\"))\n",
    "for i in range(0,x):\n",
    "    y=eval(input(\"enter the value for tuple\"))\n",
    "    l.append(y)\n",
    "t=tuple(l)\n",
    "print(t)"
   ]
  },
  {
   "cell_type": "code",
   "execution_count": 501,
   "id": "f3c657c4-055e-4faa-aff4-d167d5bb49e0",
   "metadata": {},
   "outputs": [],
   "source": [
    "# 43. Swap two elements in a tuple.\n"
   ]
  },
  {
   "cell_type": "code",
   "execution_count": 503,
   "id": "2a338219-7e07-42e9-96f0-5240a51f2b5a",
   "metadata": {},
   "outputs": [
    {
     "data": {
      "text/plain": [
       "'olleh'"
      ]
     },
     "execution_count": 503,
     "metadata": {},
     "output_type": "execute_result"
    }
   ],
   "source": [
    "# 44. Reverse the elements of a tuple.\n",
    "t=('hello')\n",
    "t[::-1]"
   ]
  },
  {
   "cell_type": "code",
   "execution_count": 505,
   "id": "37669271-df45-4f70-88c2-33a6103a7494",
   "metadata": {},
   "outputs": [
    {
     "name": "stdout",
     "output_type": "stream",
     "text": [
      "(0, 1, 4, 9, 16)\n"
     ]
    }
   ],
   "source": [
    "# 45. Create a tuple of the first `n` powers of 2.\n",
    "l=[]\n",
    "n=5\n",
    "for i in range(n):\n",
    "    l.append(i**2)\n",
    "print(tuple(l))"
   ]
  },
  {
   "cell_type": "code",
   "execution_count": 543,
   "id": "1df4b3a7-6dd0-4367-9dd9-bf8f3c48d1ab",
   "metadata": {},
   "outputs": [
    {
     "name": "stdout",
     "output_type": "stream",
     "text": [
      "devhubbbb\n"
     ]
    }
   ],
   "source": [
    "# 46. Find the longest string in a tuple of strings.\n",
    "t=('rahul','devhubbbb','yash','frisson')\n",
    "l=list(t)\n",
    "l2=\"\"\n",
    "for i in range(len(l)):\n",
    "    if len(l[i])>len(l2):\n",
    "        l2=l[i]\n",
    "\n",
    "print(l2)"
   ]
  },
  {
   "cell_type": "code",
   "execution_count": 545,
   "id": "c684b458-6651-408e-91ed-78dc9ac4f4d2",
   "metadata": {},
   "outputs": [
    {
     "name": "stdout",
     "output_type": "stream",
     "text": [
      "yash\n"
     ]
    }
   ],
   "source": [
    "# 47. Find the shortest string in a tuple of strings.\n",
    "t=('rahul','devhubbbb','yash','frisson')\n",
    "l=list(t)\n",
    "l2=l[0]\n",
    "for i in range(len(l)):\n",
    "    if len(l[i])<len(l2):\n",
    "        l2=l[i]\n",
    "\n",
    "print(l2)"
   ]
  },
  {
   "cell_type": "code",
   "execution_count": 547,
   "id": "726c4af5-3d14-461d-a611-118a114360f2",
   "metadata": {},
   "outputs": [],
   "source": [
    "# SET\n"
   ]
  },
  {
   "cell_type": "code",
   "execution_count": 557,
   "id": "3cb79748-560c-4b28-a822-41d458138afb",
   "metadata": {},
   "outputs": [
    {
     "name": "stdout",
     "output_type": "stream",
     "text": [
      "{1, 2, 3, 4, 5}\n"
     ]
    }
   ],
   "source": [
    "# 1. Create a set with integers from 1 to 5.\n",
    "s={1,2,3,4,5}\n",
    "print(s)"
   ]
  },
  {
   "cell_type": "code",
   "execution_count": 567,
   "id": "066a8f0b-4987-4f49-a58c-6b2b615abe61",
   "metadata": {},
   "outputs": [
    {
     "name": "stdout",
     "output_type": "stream",
     "text": [
      "{1, 2, 3, 4, 5, 7, '4', 'yash'}\n"
     ]
    }
   ],
   "source": [
    "# 2. Add an element to a set.\n",
    "s.add(7)\n",
    "print(s)"
   ]
  },
  {
   "cell_type": "code",
   "execution_count": 569,
   "id": "1e687c83-9464-4382-89c4-fbd6650e9a55",
   "metadata": {},
   "outputs": [
    {
     "name": "stdout",
     "output_type": "stream",
     "text": [
      "{1, 2, 3, 4, 5, 7, '4'}\n"
     ]
    }
   ],
   "source": [
    "# 3. Remove an element from a set.\n",
    "s.remove('yash')\n",
    "print(s)"
   ]
  },
  {
   "cell_type": "code",
   "execution_count": 573,
   "id": "e229c2ea-c752-4f86-8728-74cb84a5745d",
   "metadata": {},
   "outputs": [
    {
     "name": "stdout",
     "output_type": "stream",
     "text": [
      "element exists\n"
     ]
    }
   ],
   "source": [
    "# 4. Check if an element exists in a set.\n",
    "w=\"yash\"\n",
    "if w in s:\n",
    "    print(\"element exists\")\n",
    "else:\n",
    "    print(\"not exists\")"
   ]
  },
  {
   "cell_type": "code",
   "execution_count": 577,
   "id": "dd2b277a-a250-4497-af20-812a8dd6bc56",
   "metadata": {},
   "outputs": [
    {
     "name": "stdout",
     "output_type": "stream",
     "text": [
      "7\n"
     ]
    },
    {
     "data": {
      "text/plain": [
       "{1, 2, 3, 4, '4', 5, 7}"
      ]
     },
     "execution_count": 577,
     "metadata": {},
     "output_type": "execute_result"
    }
   ],
   "source": [
    "# 5. Find the length of a set without using the `len()` function\n",
    "\n",
    "count=0\n",
    "for i in s:\n",
    "    if i !=\" \":\n",
    "        count+=1\n",
    "print(count)\n",
    "s "
   ]
  },
  {
   "cell_type": "code",
   "execution_count": 581,
   "id": "9d943b8e-030e-49d8-ae88-32ac511cffbe",
   "metadata": {},
   "outputs": [
    {
     "data": {
      "text/plain": [
       "set()"
      ]
     },
     "execution_count": 581,
     "metadata": {},
     "output_type": "execute_result"
    }
   ],
   "source": [
    "# 6. Clear all elements from a set.\n",
    "s.clear()\n",
    "s"
   ]
  },
  {
   "cell_type": "code",
   "execution_count": 655,
   "id": "8c83a1c4-b671-4f6a-80b7-6f31e5adde2f",
   "metadata": {},
   "outputs": [],
   "source": [
    "# 7. Create a set of even numbers from 1 to 10.\n",
    "s={2,4,6,8,10}\n",
    "# 9. Create a set of odd numbers from 1 to 10.\n",
    "s1={10,3,5,7,9}"
   ]
  },
  {
   "cell_type": "code",
   "execution_count": 613,
   "id": "b77e1534-1bdc-4c0a-a419-c0dab166f425",
   "metadata": {},
   "outputs": [
    {
     "name": "stdout",
     "output_type": "stream",
     "text": [
      "{2, 3, 4, 5, 6, 7, 8, 9, 10}\n"
     ]
    }
   ],
   "source": [
    "# 9. Find the union of two sets.\n",
    "s2=s.union(s1)\n",
    "print(s2)"
   ]
  },
  {
   "cell_type": "code",
   "execution_count": 615,
   "id": "69095ff4-1c5a-4499-af71-bf5fd2d41cc3",
   "metadata": {},
   "outputs": [
    {
     "name": "stdout",
     "output_type": "stream",
     "text": [
      "{10}\n"
     ]
    }
   ],
   "source": [
    "# 10. Find the intersection of two sets.\n",
    "s3=s.intersection(s1)\n",
    "print(s3)"
   ]
  },
  {
   "cell_type": "code",
   "execution_count": 619,
   "id": "e7f324a2-6b27-42c7-8d86-8c54afdaa6ce",
   "metadata": {},
   "outputs": [
    {
     "name": "stdout",
     "output_type": "stream",
     "text": [
      "{8, 2, 4, 6}\n"
     ]
    }
   ],
   "source": [
    "# 11. Find the difference between two sets.\n",
    "s4=s.difference(s1)\n",
    "print(s4)"
   ]
  },
  {
   "cell_type": "code",
   "execution_count": 625,
   "id": "f8de0f36-8e9f-4b19-90e2-f63bb0a43451",
   "metadata": {},
   "outputs": [
    {
     "data": {
      "text/plain": [
       "True"
      ]
     },
     "execution_count": 625,
     "metadata": {},
     "output_type": "execute_result"
    }
   ],
   "source": [
    "# 12. Check if a set is a subset of another set.\n",
    "s.issubset(s2)"
   ]
  },
  {
   "cell_type": "code",
   "execution_count": 629,
   "id": "fd38efba-4383-4130-bf49-61abfdeb0a49",
   "metadata": {},
   "outputs": [
    {
     "data": {
      "text/plain": [
       "True"
      ]
     },
     "execution_count": 629,
     "metadata": {},
     "output_type": "execute_result"
    }
   ],
   "source": [
    "# 13. Check if a set is a superset of another set.\n",
    "s2.issuperset(s1)"
   ]
  },
  {
   "cell_type": "code",
   "execution_count": 631,
   "id": "aab6bc0f-061a-454c-98ac-b7f8383bbe1d",
   "metadata": {},
   "outputs": [
    {
     "name": "stdout",
     "output_type": "stream",
     "text": [
      "{0, 1, 34, 2, 3, 5, 8, 9, 13, 21, 55}\n",
      "<class 'set'>\n"
     ]
    }
   ],
   "source": [
    "# 14. Create a set from a list.\n",
    "l=[13, 21, 34, 55, 0, 1, 1, 2, 3, 5, 8,9,0]\n",
    "s=set(l)\n",
    "print(s)\n",
    "print(type(s))"
   ]
  },
  {
   "cell_type": "code",
   "execution_count": 633,
   "id": "63f058c4-48fb-4e76-9975-b33344821c1d",
   "metadata": {},
   "outputs": [
    {
     "name": "stdout",
     "output_type": "stream",
     "text": [
      "[0, 1, 34, 2, 3, 5, 8, 9, 13, 21, 55]\n",
      "<class 'list'>\n"
     ]
    }
   ],
   "source": [
    "# 15. Convert a set to a list.\n",
    "l=list(s)\n",
    "print(l)\n",
    "print(type(l))"
   ]
  },
  {
   "cell_type": "code",
   "execution_count": 641,
   "id": "a14f4d95-17ec-4c7e-9fdc-56fd1a5696ab",
   "metadata": {},
   "outputs": [
    {
     "name": "stdout",
     "output_type": "stream",
     "text": [
      "{0, 34, 2, 3, 5, 8, 9, 13, 21, 55}\n"
     ]
    }
   ],
   "source": [
    "# 16. Remove a random element from a set.\n",
    "s={0, 1, 34, 2, 3, 5, 8, 9, 13, 21, 55}\n",
    "s.remove(1)\n",
    "print(s)"
   ]
  },
  {
   "cell_type": "code",
   "execution_count": 645,
   "id": "01d50877-7705-4333-9b0c-ad6109e3ba31",
   "metadata": {},
   "outputs": [
    {
     "data": {
      "text/plain": [
       "{2, 3, 5, 8, 9, 13, 21, 55}"
      ]
     },
     "execution_count": 645,
     "metadata": {},
     "output_type": "execute_result"
    }
   ],
   "source": [
    "# 16. pop a element from a set.\n",
    "s.pop()\n",
    "s"
   ]
  },
  {
   "cell_type": "code",
   "execution_count": 679,
   "id": "86043734-9b54-4385-b0e1-6dc4dc7d1a1d",
   "metadata": {},
   "outputs": [
    {
     "name": "stdout",
     "output_type": "stream",
     "text": [
      "no element common\n"
     ]
    }
   ],
   "source": [
    "# 18. Check if two sets have no elements in common.\n",
    "s={1,2,3,4}\n",
    "s1={5,6,7,8}\n",
    "s2=s.intersection(s1)\n",
    "if len(s2)>=1:\n",
    "    print(\"elements common\")\n",
    "else:\n",
    "    print(\"no element common\")\n"
   ]
  },
  {
   "cell_type": "code",
   "execution_count": 681,
   "id": "0aca40d8-8487-4378-a246-ad97cbd45aed",
   "metadata": {},
   "outputs": [
    {
     "data": {
      "text/plain": [
       "{2, 3, 4, 5, 6, 7, 8}"
      ]
     },
     "execution_count": 681,
     "metadata": {},
     "output_type": "execute_result"
    }
   ],
   "source": [
    "# 19. Find the symmetric difference between two sets.\n",
    "s={1,2,3,4}\n",
    "s1={5,6,7,8,1}\n",
    "s.symmetric_difference(s1) # union without intersection\n"
   ]
  },
  {
   "cell_type": "code",
   "execution_count": 697,
   "id": "8d24c7b4-59bc-461c-bf67-1dadca3adf0b",
   "metadata": {},
   "outputs": [
    {
     "data": {
      "text/plain": [
       "{5, 6, 7, 8}"
      ]
     },
     "execution_count": 697,
     "metadata": {},
     "output_type": "execute_result"
    }
   ],
   "source": [
    "# 20. Update a set with elements from another set.\n",
    "s={1,2,3,4}\n",
    "s1={5,6,7,8}\n",
    "s.update(s1)\n",
    "s"
   ]
  },
  {
   "cell_type": "code",
   "execution_count": 703,
   "id": "3dc4499a-9f1c-43c4-ac44-08a69c593984",
   "metadata": {},
   "outputs": [],
   "source": [
    "# 21. Create a set of the first 5 prime numbers.\n",
    "s={2,3,5,7,11}"
   ]
  },
  {
   "cell_type": "code",
   "execution_count": 705,
   "id": "53727e3a-6efc-4512-909b-e047436b0d6a",
   "metadata": {},
   "outputs": [
    {
     "data": {
      "text/plain": [
       "False"
      ]
     },
     "execution_count": 705,
     "metadata": {},
     "output_type": "execute_result"
    }
   ],
   "source": [
    "# 22. Check if two sets are identical.\n",
    "s==s1"
   ]
  },
  {
   "cell_type": "code",
   "execution_count": 707,
   "id": "abd4905f-d1a8-4398-946e-cdf1aacd71a5",
   "metadata": {},
   "outputs": [
    {
     "data": {
      "text/plain": [
       "frozenset({2, 3, 5, 7, 11})"
      ]
     },
     "execution_count": 707,
     "metadata": {},
     "output_type": "execute_result"
    }
   ],
   "source": [
    "# 23. Create a frozen set.\n",
    "s={2,3,5,7,11}\n",
    "s1=frozenset(s)\n",
    "s1"
   ]
  },
  {
   "cell_type": "code",
   "execution_count": 721,
   "id": "55ffc3ce-e01a-4b0a-8d47-b8d0fd9bc9a1",
   "metadata": {},
   "outputs": [
    {
     "data": {
      "text/plain": [
       "False"
      ]
     },
     "execution_count": 721,
     "metadata": {},
     "output_type": "execute_result"
    }
   ],
   "source": [
    "# 24. Check if a set is disjoint with another set.\n",
    "s={1,2,3,4}\n",
    "s1={1,56,5,7,8}\n",
    "s.isdisjoint(s1)\n"
   ]
  },
  {
   "cell_type": "code",
   "execution_count": 723,
   "id": "a8489011-8cfb-4c34-810c-b1d3d03fd457",
   "metadata": {},
   "outputs": [],
   "source": [
    "# 25. Create a set of squares of numbers from 1 to 5.\n",
    "s={1,4,9,16,25}"
   ]
  },
  {
   "cell_type": "code",
   "execution_count": 731,
   "id": "310da0e5-8bb6-46c9-baf7-ef8366218712",
   "metadata": {},
   "outputs": [
    {
     "name": "stdout",
     "output_type": "stream",
     "text": [
      "{16, 4}\n"
     ]
    }
   ],
   "source": [
    "# 26. Filter out all even numbers from a set.\n",
    "s={1,4,9,16,25}\n",
    "l=[]\n",
    "for i in s:\n",
    "    if i%2==0:\n",
    "        l.append(i)\n",
    "print(set(l))\n"
   ]
  },
  {
   "cell_type": "code",
   "execution_count": 733,
   "id": "1fab1460-043f-4be8-9774-0b7e6434faf5",
   "metadata": {},
   "outputs": [
    {
     "name": "stdout",
     "output_type": "stream",
     "text": [
      "{32, 2, 8, 18, 50}\n"
     ]
    }
   ],
   "source": [
    "# 27. Multiply all elements in a set by 2.\n",
    "s1=[i*2 for i in s]\n",
    "print(set(s1))"
   ]
  },
  {
   "cell_type": "code",
   "execution_count": 735,
   "id": "76722380-15b4-4ddc-bb89-3ead32c95938",
   "metadata": {},
   "outputs": [],
   "source": [
    "# 28. Create a set of random numbers.\n",
    "s={1,4567,345,5423,2,3424,656,573,413,87,5}"
   ]
  },
  {
   "cell_type": "code",
   "execution_count": 737,
   "id": "ef97459e-b853-4085-a5a2-875131bde7f4",
   "metadata": {},
   "outputs": [
    {
     "name": "stdout",
     "output_type": "stream",
     "text": [
      "not empty\n"
     ]
    }
   ],
   "source": [
    "# 29. Check if a set is empty.\n",
    "if len(s)>=1:\n",
    "    print(\"not empty\")\n",
    "else:\n",
    "    print(\"empty\")\n",
    "    "
   ]
  },
  {
   "cell_type": "code",
   "execution_count": 815,
   "id": "ed38ff5f-e7e6-4228-9a93-4574d82937ba",
   "metadata": {},
   "outputs": [],
   "source": [
    "# 30. Create a nested set (hint: use frozenset)."
   ]
  },
  {
   "cell_type": "code",
   "execution_count": 775,
   "id": "22918829-c2e5-46ca-b67a-07be0ddc3820",
   "metadata": {},
   "outputs": [
    {
     "data": {
      "text/plain": [
       "{1, 2, 5, 87, 345, 413, 573, 656, 3424, 4567, 5423}"
      ]
     },
     "execution_count": 775,
     "metadata": {},
     "output_type": "execute_result"
    }
   ],
   "source": [
    "# 31. Remove an element from a set using the discard method.\n",
    "s.discard('sonu')\n",
    "s"
   ]
  },
  {
   "cell_type": "code",
   "execution_count": 777,
   "id": "b5df66c9-758e-4a80-ad26-3c5f9f09a2c6",
   "metadata": {},
   "outputs": [
    {
     "data": {
      "text/plain": [
       "False"
      ]
     },
     "execution_count": 777,
     "metadata": {},
     "output_type": "execute_result"
    }
   ],
   "source": [
    "# 32. Compare two sets.\n",
    "s==s1"
   ]
  },
  {
   "cell_type": "code",
   "execution_count": 791,
   "id": "d50e34d4-2e72-4a22-8cb3-bd160250ec3f",
   "metadata": {},
   "outputs": [
    {
     "data": {
      "text/plain": [
       "{'e', 'h', 'l', 'o'}"
      ]
     },
     "execution_count": 791,
     "metadata": {},
     "output_type": "execute_result"
    }
   ],
   "source": [
    "# 33. Create a set from a string.\n",
    "s=\"hello\"\n",
    "s1=set(s)\n",
    "s1"
   ]
  },
  {
   "cell_type": "code",
   "execution_count": 795,
   "id": "325eb229-bf22-4857-a382-0816ca2eb284",
   "metadata": {},
   "outputs": [
    {
     "name": "stdout",
     "output_type": "stream",
     "text": [
      "{1, 36, 54, 87}\n"
     ]
    }
   ],
   "source": [
    "# 34. Convert a set of strings to a set of integers\n",
    "s1={'36','1','54','87'}\n",
    "s2={int(i) for i in s1}\n",
    "print(s2)"
   ]
  },
  {
   "cell_type": "code",
   "execution_count": 801,
   "id": "f9e5510e-50a5-4aa1-837c-725488ae8fa2",
   "metadata": {},
   "outputs": [
    {
     "name": "stdout",
     "output_type": "stream",
     "text": [
      "{'54', '1', '36', '87'}\n"
     ]
    }
   ],
   "source": [
    "# 35. Convert a set of integers to a set of strings.\n",
    "s1={1, 36, 54, 87}\n",
    "s2={str(i) for i in s1}\n",
    "print(s2)"
   ]
  },
  {
   "cell_type": "code",
   "execution_count": 803,
   "id": "94f0520e-1bce-4ee1-a003-ef6849c6aab2",
   "metadata": {},
   "outputs": [
    {
     "data": {
      "text/plain": [
       "{1, 3, 4, 33, 56543}"
      ]
     },
     "execution_count": 803,
     "metadata": {},
     "output_type": "execute_result"
    }
   ],
   "source": [
    "# 36. Create a set from a tuple.\n",
    "t=(1,3,4,56543,33)\n",
    "s=set(t)\n",
    "s"
   ]
  },
  {
   "cell_type": "code",
   "execution_count": 805,
   "id": "694c7e73-5a16-45e5-b2ee-1782632de3bc",
   "metadata": {},
   "outputs": [
    {
     "data": {
      "text/plain": [
       "(1, 33, 3, 4, 56543)"
      ]
     },
     "execution_count": 805,
     "metadata": {},
     "output_type": "execute_result"
    }
   ],
   "source": [
    "# 37. Convert a set to a tuple.\n",
    "s={1, 3, 4, 33, 56543}\n",
    "t=tuple(s)\n",
    "t"
   ]
  },
  {
   "cell_type": "code",
   "execution_count": 807,
   "id": "0ba6ed31-f6cb-42f0-8151-99f260bb3583",
   "metadata": {},
   "outputs": [
    {
     "name": "stdout",
     "output_type": "stream",
     "text": [
      "56543\n"
     ]
    }
   ],
   "source": [
    "# 38. Find the maximum value in a set.\n",
    "s={1, 3, 4, 33, 56543}\n",
    "m=max(s)\n",
    "print(m)"
   ]
  },
  {
   "cell_type": "code",
   "execution_count": 809,
   "id": "5e000eaf-3538-4d16-901f-7f657c39fed1",
   "metadata": {},
   "outputs": [
    {
     "name": "stdout",
     "output_type": "stream",
     "text": [
      "1\n"
     ]
    }
   ],
   "source": [
    "# 38. Find the minimum value in a set.\n",
    "s={1, 3, 4, 33, 56543}\n",
    "m=min(s)\n",
    "print(m)"
   ]
  },
  {
   "cell_type": "code",
   "execution_count": 813,
   "id": "749ddeb0-81db-4723-9e84-7b8b210e74df",
   "metadata": {},
   "outputs": [
    {
     "name": "stdin",
     "output_type": "stream",
     "text": [
      "enter the size of set 3\n",
      "enter the value for set 1\n",
      "enter the value for set 2\n",
      "enter the value for set 3\n"
     ]
    },
    {
     "name": "stdout",
     "output_type": "stream",
     "text": [
      "{1, 2, 3}\n"
     ]
    }
   ],
   "source": [
    "# 40. Create a set from user input.\n",
    "l=[]\n",
    "x=int(input(\"enter the size of set\"))\n",
    "for i in range(0,x):\n",
    "    y=eval(input(\"enter the value for set\"))\n",
    "    l.append(y)\n",
    "print(set(l))"
   ]
  },
  {
   "cell_type": "code",
   "execution_count": 819,
   "id": "c3e94d9f-9b05-4871-ba12-deb6b1240271",
   "metadata": {},
   "outputs": [
    {
     "name": "stdout",
     "output_type": "stream",
     "text": [
      "empty\n"
     ]
    }
   ],
   "source": [
    "# 41. Check if the intersection of two sets is empty.\n",
    "s={1,2,3}\n",
    "s1={4,5}\n",
    "if len(s.intersection(s1))<1:\n",
    "    print(\"empty\")\n",
    "else:\n",
    "    print(\"not empty\")"
   ]
  },
  {
   "cell_type": "code",
   "execution_count": 823,
   "id": "6341c170-426d-4605-a5f2-6532d2b3d647",
   "metadata": {},
   "outputs": [
    {
     "data": {
      "text/plain": [
       "{0, 1, 2, 3}"
      ]
     },
     "execution_count": 823,
     "metadata": {},
     "output_type": "execute_result"
    }
   ],
   "source": [
    "# 42. Create a set of the first 5 Fibonacci numbers.\n",
    "s={0,1,1,2,3}\n",
    "s"
   ]
  },
  {
   "cell_type": "code",
   "execution_count": 825,
   "id": "2721a571-92c1-4c06-877d-e5558c645107",
   "metadata": {},
   "outputs": [
    {
     "name": "stdout",
     "output_type": "stream",
     "text": [
      "{1, 2, 3}\n"
     ]
    }
   ],
   "source": [
    "# 43. Remove duplicates from a list using sets.\n",
    "l=[1,2,2,3]\n",
    "print(set(l))"
   ]
  },
  {
   "cell_type": "code",
   "execution_count": 829,
   "id": "0f8993d2-99d9-4db8-89e9-14432ccdf27e",
   "metadata": {},
   "outputs": [
    {
     "data": {
      "text/plain": [
       "False"
      ]
     },
     "execution_count": 829,
     "metadata": {},
     "output_type": "execute_result"
    }
   ],
   "source": [
    "# 44. Check if two sets have the same elements, regardless of their count.\n",
    "s={1,2,3}\n",
    "s1={4,5,3}\n",
    "s==s1"
   ]
  },
  {
   "cell_type": "code",
   "execution_count": 831,
   "id": "7d9a652a-1da8-42d5-9f2b-e58b2e1ce6c4",
   "metadata": {},
   "outputs": [
    {
     "name": "stdout",
     "output_type": "stream",
     "text": [
      "{0, 1, 4, 9, 16}\n"
     ]
    }
   ],
   "source": [
    "# 45. Create a set of the first `n` powers of 2.\n",
    "l=[]\n",
    "n=5\n",
    "for i in range(n):\n",
    "    l.append(i**2)\n",
    "print(set(l))"
   ]
  },
  {
   "cell_type": "code",
   "execution_count": null,
   "id": "d34223bc-a435-4048-93c8-893878c4082c",
   "metadata": {},
   "outputs": [],
   "source": []
  }
 ],
 "metadata": {
  "kernelspec": {
   "display_name": "Python 3 (ipykernel)",
   "language": "python",
   "name": "python3"
  },
  "language_info": {
   "codemirror_mode": {
    "name": "ipython",
    "version": 3
   },
   "file_extension": ".py",
   "mimetype": "text/x-python",
   "name": "python",
   "nbconvert_exporter": "python",
   "pygments_lexer": "ipython3",
   "version": "3.12.4"
  }
 },
 "nbformat": 4,
 "nbformat_minor": 5
}
