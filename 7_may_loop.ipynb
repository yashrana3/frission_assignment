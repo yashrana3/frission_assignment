{
 "cells": [
  {
   "cell_type": "code",
   "execution_count": 1,
   "id": "aa16c7fe-89a3-4d9e-a880-d029afdfcd04",
   "metadata": {},
   "outputs": [],
   "source": [
    "# Assignment\n"
   ]
  },
  {
   "cell_type": "code",
   "execution_count": 3,
   "id": "e239fb36-fc5c-4087-958d-f128797749eb",
   "metadata": {},
   "outputs": [],
   "source": [
    "# LOOP\n"
   ]
  },
  {
   "cell_type": "code",
   "execution_count": 7,
   "id": "8c733e45-676e-4c69-bb71-a0433715441e",
   "metadata": {},
   "outputs": [
    {
     "name": "stdout",
     "output_type": "stream",
     "text": [
      "1\n",
      "2\n",
      "3\n",
      "4\n",
      "5\n",
      "6\n",
      "7\n",
      "8\n",
      "9\n",
      "10\n"
     ]
    }
   ],
   "source": [
    "# 1. Write a Python program to print the numbers from 1 to 10 using a `for` loop.\n",
    "for i in range(1,11):\n",
    "    print(i)                                                                   "
   ]
  },
  {
   "cell_type": "code",
   "execution_count": 45,
   "id": "53f3d82b-d6ca-4c8e-8ff2-6e478de0fb47",
   "metadata": {},
   "outputs": [
    {
     "name": "stdout",
     "output_type": "stream",
     "text": [
      "3879\n"
     ]
    }
   ],
   "source": [
    "# 2. Create a program that calculates the sum of all numbers in a list using a `for` loop.\n",
    "l=[1,4,5,3632,23,214]\n",
    "sum1=0\n",
    "for i in l:\n",
    "    sum1+=i\n",
    "print(sum1)"
   ]
  },
  {
   "cell_type": "code",
   "execution_count": 47,
   "id": "3bdbf3e0-2415-4143-8919-6f3b57eb02fb",
   "metadata": {},
   "outputs": [
    {
     "name": "stdout",
     "output_type": "stream",
     "text": [
      "olleh\n"
     ]
    }
   ],
   "source": [
    "# 3. Write a program to print the characters of a string in reverse order using a `for` loop.\n",
    "s=\"hello\"\n",
    "res=''\n",
    "for i in s:\n",
    "    res=i+res\n",
    "print(res)"
   ]
  },
  {
   "cell_type": "code",
   "execution_count": 463,
   "id": "0101b397-ebb5-442a-8abc-395f40bc4b19",
   "metadata": {},
   "outputs": [
    {
     "name": "stdout",
     "output_type": "stream",
     "text": [
      "1\n"
     ]
    }
   ],
   "source": [
    "# 4. Develop a program that finds the factorial of a given number using a `for` loop.\n",
    "n=1\n",
    "\n",
    "fac=0\n",
    "for i in range(n+1):\n",
    "    if i<=1:\n",
    "        fac=1\n",
    "    else:\n",
    "        fac=fac*i\n",
    "print(fac)"
   ]
  },
  {
   "cell_type": "code",
   "execution_count": 51,
   "id": "5b81115a-adad-498c-8e5b-e2e7020546a5",
   "metadata": {},
   "outputs": [
    {
     "name": "stdout",
     "output_type": "stream",
     "text": [
      "2*1=2\n",
      "2*2=4\n",
      "2*3=6\n",
      "2*4=8\n",
      "2*5=10\n",
      "2*6=12\n",
      "2*7=14\n",
      "2*8=16\n",
      "2*9=18\n",
      "2*10=20\n"
     ]
    }
   ],
   "source": [
    "# 5. Create a program to print the multiplication table of a given number using a `for` loop.\n",
    "n=2\n",
    "for i in range(1,11):\n",
    "    print(f\"{2}*{i}={n*i}\")"
   ]
  },
  {
   "cell_type": "code",
   "execution_count": 53,
   "id": "ebabc21c-e91f-4ebf-afd8-9e7bd9a85baf",
   "metadata": {},
   "outputs": [
    {
     "name": "stdout",
     "output_type": "stream",
     "text": [
      "count of even is 3\n",
      "count of odd is 3\n"
     ]
    }
   ],
   "source": [
    "# 6. Write a program that counts the number of even and odd numbers in a list using a `for` loop.\n",
    "l=[1,2,3,4,5,6]\n",
    "l1=[]\n",
    "l2=[]\n",
    "for i in l:\n",
    "    if i%2==0:\n",
    "        l1.append(i)\n",
    "    else:\n",
    "        l2.append(i)\n",
    "print(f\"count of even is {len(l1)}\")\n",
    "print(f\"count of odd is {len(l2)}\")"
   ]
  },
  {
   "cell_type": "code",
   "execution_count": 55,
   "id": "eae88dbc-ea7e-4a37-b29e-2ea02db9aaea",
   "metadata": {},
   "outputs": [
    {
     "name": "stdout",
     "output_type": "stream",
     "text": [
      "[1, 4, 9, 16, 25]\n"
     ]
    }
   ],
   "source": [
    "# 7. Develop a program that prints the squares of numbers from 1 to 5 using a `for` loop.\n",
    "l=[i**2 for i in range(1,6)]\n",
    "print(l)"
   ]
  },
  {
   "cell_type": "code",
   "execution_count": 79,
   "id": "f049178d-f38d-4d7a-a7dc-b5602054f272",
   "metadata": {},
   "outputs": [
    {
     "name": "stdout",
     "output_type": "stream",
     "text": [
      "11\n"
     ]
    }
   ],
   "source": [
    "# 8. Create a program to find the length of a string without using the `len()` function.\n",
    "s=\"hello devhub\"\n",
    "count=0\n",
    "for i in s:\n",
    "    if i!=\" \":\n",
    "        count+=1\n",
    "print(count)"
   ]
  },
  {
   "cell_type": "code",
   "execution_count": 87,
   "id": "9fe5f6e8-114c-4914-8d25-02645185a827",
   "metadata": {},
   "outputs": [
    {
     "name": "stdout",
     "output_type": "stream",
     "text": [
      "2.5\n"
     ]
    }
   ],
   "source": [
    "# 9. Write a program that calculates the average of a list of numbers using a `for` loop.\n",
    "l=[1,2,3,4]\n",
    "s=0\n",
    "for i in l:\n",
    "    s+=i\n",
    "a=s/len(l)\n",
    "print(a)\n"
   ]
  },
  {
   "cell_type": "code",
   "execution_count": 465,
   "id": "db8c98e8-8eae-4314-9db3-c0716368a40d",
   "metadata": {},
   "outputs": [
    {
     "name": "stdout",
     "output_type": "stream",
     "text": [
      "0 1 1 2 3 "
     ]
    }
   ],
   "source": [
    "# 10. Develop a program that prints the first `n` Fibonacci numbers using a `for` loop.\n",
    "n=5\n",
    "a,b=0,1\n",
    "for i in range(n):\n",
    "    print(a,end=\" \")\n",
    "    a,b=b,a+b"
   ]
  },
  {
   "cell_type": "code",
   "execution_count": 289,
   "id": "dfba6bd4-c869-4152-986e-335b279056b4",
   "metadata": {},
   "outputs": [
    {
     "name": "stdout",
     "output_type": "stream",
     "text": [
      "[1, 2, 3, 5, 7, 43, 25]\n"
     ]
    }
   ],
   "source": [
    "# 11. Write a program to check if a given list contains any duplicates using a `for` loop.\n",
    "l=[1,2,3,2,5,7,1,43,5]\n",
    "l1=[]\n",
    "for i in l:\n",
    "    if i not in l1:\n",
    "        l1.append(i)\n",
    "print(l1)"
   ]
  },
  {
   "cell_type": "code",
   "execution_count": 105,
   "id": "acffb250-e061-4612-ad63-d0b8dbfdf882",
   "metadata": {},
   "outputs": [
    {
     "name": "stdout",
     "output_type": "stream",
     "text": [
      "[2, 3, 5, 7, 11, 13, 17, 19, 23, 29, 31, 37, 41, 43, 47, 53, 59, 61, 67, 71, 73, 79, 83, 89, 97]\n"
     ]
    }
   ],
   "source": [
    "# 12. Create a program that prints the prime numbers in a given range using a `for` loop.\n",
    "n=100\n",
    "l=[]\n",
    "for i in range(n+1):\n",
    "    count=0\n",
    "    if i>1:\n",
    "        for j in range(2,n+1):\n",
    "            if i%j==0:\n",
    "                count+=1\n",
    "    if count == 1:\n",
    "        l.append(i)\n",
    "print(l)\n",
    "                "
   ]
  },
  {
   "cell_type": "code",
   "execution_count": 109,
   "id": "75db4f4a-dda9-4071-8ab6-c841566ef12a",
   "metadata": {},
   "outputs": [
    {
     "name": "stdout",
     "output_type": "stream",
     "text": [
      "2\n"
     ]
    }
   ],
   "source": [
    "# 13. Develop a program that counts the number of vowels in a string using a `for` loop.\n",
    "s=\"hello\"\n",
    "vowel='aeiou'\n",
    "count=0\n",
    "for i in s:\n",
    "    if i in vowel:\n",
    "        count+=1\n",
    "print(count)"
   ]
  },
  {
   "cell_type": "code",
   "execution_count": 207,
   "id": "08aa8bcb-846f-4f65-8dca-f5d33e7e8ac2",
   "metadata": {},
   "outputs": [
    {
     "name": "stdout",
     "output_type": "stream",
     "text": [
      "[1, 2, 3]\n"
     ]
    }
   ],
   "source": [
    "# 14. Write a program to find the maximum element in a 2D list using a nested `for` loop.\n",
    "l=[[1,2,3],[3,4],[5,6]]\n",
    "l1=0\n",
    "for i in l:\n",
    "    for j in l:\n",
    "        if len(j)>len(i):\n",
    "            l1=j\n",
    "print(l1)"
   ]
  },
  {
   "cell_type": "code",
   "execution_count": 125,
   "id": "0948da8a-574a-492b-b4a4-cd45255ecc1e",
   "metadata": {},
   "outputs": [
    {
     "name": "stdout",
     "output_type": "stream",
     "text": [
      "['yash', 'frisson', 'devhub', 2, 4]\n"
     ]
    }
   ],
   "source": [
    "# 15. Create a program that removes all occurrences of a specific element from a list using a `for` loop.\n",
    "l=['yash','frisson','devhub',1,2,1,4,1]\n",
    "l1=1\n",
    "for i in l:\n",
    "    if i==l1:\n",
    "        l.remove(i)\n",
    "print(l)"
   ]
  },
  {
   "cell_type": "code",
   "execution_count": 133,
   "id": "df883a08-5d77-492e-8725-a06c57cba11a",
   "metadata": {},
   "outputs": [
    {
     "name": "stdout",
     "output_type": "stream",
     "text": [
      "the multiplication table of 1 is :\n",
      "1*1=1\n",
      "1*2=2\n",
      "1*3=3\n",
      "1*4=4\n",
      "1*5=5\n",
      "1*6=6\n",
      "1*7=7\n",
      "1*8=8\n",
      "1*9=9\n",
      "1*10=10\n",
      "the multiplication table of 2 is :\n",
      "2*1=2\n",
      "2*2=4\n",
      "2*3=6\n",
      "2*4=8\n",
      "2*5=10\n",
      "2*6=12\n",
      "2*7=14\n",
      "2*8=16\n",
      "2*9=18\n",
      "2*10=20\n",
      "the multiplication table of 3 is :\n",
      "3*1=3\n",
      "3*2=6\n",
      "3*3=9\n",
      "3*4=12\n",
      "3*5=15\n",
      "3*6=18\n",
      "3*7=21\n",
      "3*8=24\n",
      "3*9=27\n",
      "3*10=30\n",
      "the multiplication table of 4 is :\n",
      "4*1=4\n",
      "4*2=8\n",
      "4*3=12\n",
      "4*4=16\n",
      "4*5=20\n",
      "4*6=24\n",
      "4*7=28\n",
      "4*8=32\n",
      "4*9=36\n",
      "4*10=40\n",
      "the multiplication table of 5 is :\n",
      "5*1=5\n",
      "5*2=10\n",
      "5*3=15\n",
      "5*4=20\n",
      "5*5=25\n",
      "5*6=30\n",
      "5*7=35\n",
      "5*8=40\n",
      "5*9=45\n",
      "5*10=50\n"
     ]
    }
   ],
   "source": [
    "# 16. Develop a program that generates a multiplication table for numbers from 1 to 5 using a nested `for` loop.\n",
    "for i in range(1,6):\n",
    "    print(f\"the multiplication table of {i} is :\")\n",
    "    for j in range(1,11):\n",
    "        print(f\"{i}*{j}={i*j}\")\n",
    "        "
   ]
  },
  {
   "cell_type": "code",
   "execution_count": 147,
   "id": "6c8d0778-d392-402e-9c4d-07326cd63398",
   "metadata": {},
   "outputs": [
    {
     "name": "stdout",
     "output_type": "stream",
     "text": [
      "[37.78, 37.0, 38.33, 42.78]\n"
     ]
    }
   ],
   "source": [
    "# 17. Write a program that converts a list of Fahrenheit temperatures to Celsius using a `for` loop.\n",
    "temp_fahren=[100,98.6,101,109]\n",
    "temp_cel=[]\n",
    "for i in temp_fahren:\n",
    "    temp_cel.append(round(((i-32)/1.8),2))\n",
    "print(temp_cel)\n",
    "    "
   ]
  },
  {
   "cell_type": "code",
   "execution_count": 161,
   "id": "e2c0e661-f68d-4ca3-bb93-9d5745b3a941",
   "metadata": {},
   "outputs": [
    {
     "name": "stdout",
     "output_type": "stream",
     "text": [
      "[1, 2, 'yash']\n"
     ]
    }
   ],
   "source": [
    "# 18. Create a program to print the common elements from two lists using a `for` loop.\n",
    "l=[1,2,3,4,'yash']\n",
    "l2=[1,2,'yash','frisson',1,'yash']\n",
    "l3=[]\n",
    "for i in l:\n",
    "    count=0\n",
    "    for j in l2:\n",
    "        if i==j:\n",
    "            count+=1\n",
    "    if count >= 1:\n",
    "        l3.append(i)\n",
    "print(l3)"
   ]
  },
  {
   "cell_type": "code",
   "execution_count": 179,
   "id": "6f274de1-af24-49e6-84bc-9801f06d3995",
   "metadata": {},
   "outputs": [
    {
     "name": "stdout",
     "output_type": "stream",
     "text": [
      "* \n",
      "* * \n",
      "* * * \n",
      "* * * * \n",
      "* * * * * \n"
     ]
    }
   ],
   "source": [
    "# 19. Develop a program that prints the pattern of right-angled triangles using a `for` loop. Use ‘*’ to draw the pattern\n",
    "n=5\n",
    "for i in range(n):\n",
    "    for j in range(0,i+1):\n",
    "        print(\"*\",end=\" \")\n",
    "    print(\"\")\n"
   ]
  },
  {
   "cell_type": "code",
   "execution_count": 197,
   "id": "38fffdb1-be45-4a10-9559-de1b007a94a7",
   "metadata": {},
   "outputs": [
    {
     "name": "stdout",
     "output_type": "stream",
     "text": [
      "22\n"
     ]
    }
   ],
   "source": [
    "# 20. Write a program to find the greatest common divisor (GCD) of two numbers using a `for` loop.\n",
    "x1=22\n",
    "x2=66\n",
    "gcd=[]\n",
    "for i in range(1,100):\n",
    "    if x1%i==0 and x2%i==0:\n",
    "        gcd.append(i)\n",
    "print(max(gcd))"
   ]
  },
  {
   "cell_type": "code",
   "execution_count": 243,
   "id": "c385eeb7-ce2b-4931-8712-cc090f8671e0",
   "metadata": {},
   "outputs": [
    {
     "name": "stdout",
     "output_type": "stream",
     "text": [
      "[10, 13, 8]\n"
     ]
    }
   ],
   "source": [
    "# 21.Create a program that calculates the sum of the digits of numbers in a list using a list comprehension.\n",
    "l=[1234,13243,1223]\n",
    "s=[sum(int(j) for j in str(i)) for i in l]\n",
    "print(s)"
   ]
  },
  {
   "cell_type": "code",
   "execution_count": 325,
   "id": "ed909343-404f-48f8-bb35-0becbb74b45f",
   "metadata": {},
   "outputs": [
    {
     "name": "stdout",
     "output_type": "stream",
     "text": [
      "[1, 6, 3, 9, 2]\n"
     ]
    }
   ],
   "source": [
    "# 23. Develop a program that extracts unique elements from a list and stores them in a new list using a list comprehension.\n",
    "l=[1,6,3,3,1,6,9,1,2]\n",
    "l2=[]\n",
    "[l2.append(i) for i in l if i not in l2]\n",
    "print(l2)"
   ]
  },
  {
   "cell_type": "code",
   "execution_count": 283,
   "id": "65d028b5-3285-471f-9f24-eb6aebc16885",
   "metadata": {},
   "outputs": [
    {
     "name": "stdout",
     "output_type": "stream",
     "text": [
      "[1, 2, 3, 4, 5, 6, 7, 8, 9, 11]\n"
     ]
    }
   ],
   "source": [
    "# 24. Create a program that generates a list of all palindromic numbers up to a specified limit using a list comprehension.\n",
    "l=20\n",
    "l2=[j for j in range(1,l+1) if str(j)==str(j)[::-1]]\n",
    "print(l2)"
   ]
  },
  {
   "cell_type": "code",
   "execution_count": 303,
   "id": "07d7008c-0cf3-4241-a2b3-b990aa1778bd",
   "metadata": {},
   "outputs": [
    {
     "name": "stdout",
     "output_type": "stream",
     "text": [
      "[1, 2, 1, 6, 87, 86, 98, 54]\n"
     ]
    }
   ],
   "source": [
    "# 25. Write a program to flatten a nested list using list comprehension.\n",
    "l=[[1,2],[1,6],[87,86],[98,54]]\n",
    "l2=[j for i in l for j in i]\n",
    "print(l2)"
   ]
  },
  {
   "cell_type": "code",
   "execution_count": 321,
   "id": "3c03ad5f-919d-4124-bd18-a9f764fdb79c",
   "metadata": {},
   "outputs": [
    {
     "name": "stdout",
     "output_type": "stream",
     "text": [
      "30\n",
      "25\n"
     ]
    }
   ],
   "source": [
    "# 26. Develop a program that computes the sum of even and odd numbers in a list separately using list comprehension.\n",
    "l=[1,2,3,4,5,6,7,8,9,10]\n",
    "l2=[]\n",
    "l3=[]\n",
    "[l2.append(i) if i%2==0 else l3.append(i) for i in l]\n",
    "print(sum(l2))\n",
    "print(sum(l3))"
   ]
  },
  {
   "cell_type": "code",
   "execution_count": 342,
   "id": "d492437f-f3ae-4fb9-93b0-88a7b71ebd51",
   "metadata": {},
   "outputs": [
    {
     "name": "stdout",
     "output_type": "stream",
     "text": [
      "[1, 9, 25, 49, 81]\n"
     ]
    }
   ],
   "source": [
    "# 27. Create a program that generates a list of squares of odd numbers between 1 and 10 using list comprehension.\n",
    "l1=[i**2 for i in range(1,11) if i%2!=0]\n",
    "print(l1)"
   ]
  },
  {
   "cell_type": "code",
   "execution_count": 358,
   "id": "bca6b428-21a6-42bc-9aa5-c24eb1d25912",
   "metadata": {},
   "outputs": [
    {
     "name": "stdout",
     "output_type": "stream",
     "text": [
      "{1: 'frisson', 2: 'yash', 3: 'devhubb', 4: 'rana'}\n"
     ]
    }
   ],
   "source": [
    "# 28. Write a program that combines two lists into a dictionary using list comprehension.\n",
    "l=[1,2,3,4]\n",
    "l2=['frisson','yash','devhubb','rana']\n",
    "l3=dict(zip(l,l2))\n",
    "print(l3)"
   ]
  },
  {
   "cell_type": "code",
   "execution_count": 366,
   "id": "891807b3-f5e3-4592-9bfa-f389f4520137",
   "metadata": {},
   "outputs": [
    {
     "name": "stdout",
     "output_type": "stream",
     "text": [
      "['i', 'o']\n"
     ]
    }
   ],
   "source": [
    "# 29. Develop a program that extracts the vowels from a string and stores them in a list using list comprehension.\n",
    "l='frisson'\n",
    "vowel='aeiou'\n",
    "l1=[i for i in l if i in vowel]\n",
    "print(l1)"
   ]
  },
  {
   "cell_type": "code",
   "execution_count": 372,
   "id": "857839e9-694b-47ee-889e-5840e9ae5ec7",
   "metadata": {},
   "outputs": [
    {
     "name": "stdout",
     "output_type": "stream",
     "text": [
      "[1, 2, 3, 4]\n"
     ]
    }
   ],
   "source": [
    "# 30. Create a program that removes all non-numeric characters from a list of strings using list comprehension.\n",
    "l=[1,2,3,4,'y','f']\n",
    "l1=[i for i in l if ord(str(i))<65]\n",
    "print(l1)"
   ]
  },
  {
   "cell_type": "code",
   "execution_count": 495,
   "id": "b6b58bc4-ca9f-4639-b214-32c02ab17bfc",
   "metadata": {},
   "outputs": [],
   "source": [
    "# Basic If-Else Statements:\n"
   ]
  },
  {
   "cell_type": "code",
   "execution_count": 497,
   "id": "37ecfd6f-b150-462f-831d-9ae46690446a",
   "metadata": {},
   "outputs": [
    {
     "name": "stdout",
     "output_type": "stream",
     "text": [
      "the number is negative\n"
     ]
    }
   ],
   "source": [
    "# 1. Write a Python program to check if a given number is positive or negative.\n",
    "l=-1\n",
    "if l<0:\n",
    "    print(\"the number is negative\")\n",
    "else:\n",
    "    print(\"the number is positve\")"
   ]
  },
  {
   "cell_type": "code",
   "execution_count": 499,
   "id": "2ae3c39a-85d2-4c59-a7d0-27d51f027f6a",
   "metadata": {},
   "outputs": [
    {
     "name": "stdout",
     "output_type": "stream",
     "text": [
      "not eligible\n"
     ]
    }
   ],
   "source": [
    "# 2. Create a program that determines if a person is eligible to vote based on their age.\n",
    "age=12\n",
    "if age>=18:\n",
    "    print(\"eligible\")\n",
    "else:\n",
    "    print(\"not eligible\")"
   ]
  },
  {
   "cell_type": "code",
   "execution_count": 501,
   "id": "7f398f52-3676-4d8e-b2ac-40095e967706",
   "metadata": {},
   "outputs": [
    {
     "name": "stdout",
     "output_type": "stream",
     "text": [
      "11\n"
     ]
    }
   ],
   "source": [
    "# 3. Develop a program to find the maximum of two numbers using if-else statements.\n",
    "x=10\n",
    "x1=11\n",
    "if x>x1:\n",
    "    print(x)\n",
    "else:\n",
    "    print(x1)"
   ]
  },
  {
   "cell_type": "code",
   "execution_count": 503,
   "id": "f3c5d5d0-6ed0-48ba-a738-d1477ccbd8c1",
   "metadata": {},
   "outputs": [
    {
     "name": "stdout",
     "output_type": "stream",
     "text": [
      "not a leap year\n"
     ]
    }
   ],
   "source": [
    "# 4. Write a Python script to classify a given year as a leap year or not.\n",
    "x=2002\n",
    "if x%4==0 and x%100 != 0 or x%400==0:\n",
    "    print(\"leap year\")\n",
    "else:\n",
    "    print(\"not a leap year\")"
   ]
  },
  {
   "cell_type": "code",
   "execution_count": 505,
   "id": "55618911-22dc-4b22-a5b5-959a65d281dc",
   "metadata": {},
   "outputs": [
    {
     "name": "stdout",
     "output_type": "stream",
     "text": [
      "vowel\n"
     ]
    }
   ],
   "source": [
    "# 5. Create a program that checks whether a character is a vowel or a consonant.\n",
    "l='a'\n",
    "v='aeiou'\n",
    "if l in v :\n",
    "    print(\"vowel\")\n",
    "else:\n",
    "    print(\"consonant\")"
   ]
  },
  {
   "cell_type": "code",
   "execution_count": 507,
   "id": "303d5eb5-39e5-4977-a1c2-cc9febe9b574",
   "metadata": {},
   "outputs": [
    {
     "name": "stdout",
     "output_type": "stream",
     "text": [
      "odd\n"
     ]
    }
   ],
   "source": [
    "# 6. Implement a program to determine whether a given number is even or odd. \n",
    "x=7\n",
    "if x%2==0:\n",
    "    print(\"even\")\n",
    "else:\n",
    "    print(\"odd\")"
   ]
  },
  {
   "cell_type": "code",
   "execution_count": 673,
   "id": "f5084b72-199e-4007-a6bf-7dcc6e2c68bf",
   "metadata": {},
   "outputs": [
    {
     "data": {
      "text/plain": [
       "2"
      ]
     },
     "execution_count": 673,
     "metadata": {},
     "output_type": "execute_result"
    }
   ],
   "source": [
    "# 7. Write a Python function to calculate the absolute value of a number without using the `abs()` function.\n",
    "def abs1(num):\n",
    "    if num<0:\n",
    "        return -num\n",
    "    else:\n",
    "        return num \n",
    "abs1(-2)"
   ]
  },
  {
   "cell_type": "code",
   "execution_count": 511,
   "id": "e1038ca2-bf75-4bcc-a70c-27c24672f730",
   "metadata": {},
   "outputs": [
    {
     "name": "stdout",
     "output_type": "stream",
     "text": [
      "10\n"
     ]
    }
   ],
   "source": [
    "# 8. Develop a program that determines the largest of three given numbers using if-else statements.\n",
    "x1=8\n",
    "x2=10\n",
    "x3=6\n",
    "if x1>x2:\n",
    "    if x1>x3:\n",
    "        print(x1)\n",
    "    else:\n",
    "        print(x3)\n",
    "else:\n",
    "    print(x2)"
   ]
  },
  {
   "cell_type": "code",
   "execution_count": 513,
   "id": "68c0765d-f1eb-4167-9b96-3c78124190d5",
   "metadata": {},
   "outputs": [
    {
     "name": "stdout",
     "output_type": "stream",
     "text": [
      "palindrome\n"
     ]
    }
   ],
   "source": [
    "# 9. Create a program that checks if a given string is a palindrome.\n",
    "x='nitin'\n",
    "if x==x[::-1]:\n",
    "    print(\"palindrome\")\n",
    "else:\n",
    "    print(\"not a palindrome\")"
   ]
  },
  {
   "cell_type": "code",
   "execution_count": 515,
   "id": "7047a1ee-6c9e-41cc-9545-ca4050a01af6",
   "metadata": {},
   "outputs": [
    {
     "name": "stdout",
     "output_type": "stream",
     "text": [
      "a+\n"
     ]
    }
   ],
   "source": [
    "# 10. Write a Python program to calculate the grade based on a student's score.\n",
    "x=99\n",
    "if x>90 and x<=100:\n",
    "    print(\"a+\")\n",
    "elif x>80 and x<=90:\n",
    "    print(\"a\")\n",
    "elif x>70 and x<=70:\n",
    "    print(\"b\")\n",
    "else:\n",
    "    print(\"padhle bhai\")"
   ]
  },
  {
   "cell_type": "code",
   "execution_count": 535,
   "id": "933d1af5-0e6e-45dc-9f1c-8839bfaedc93",
   "metadata": {},
   "outputs": [],
   "source": [
    "# Nested If-Else Statements:\n"
   ]
  },
  {
   "cell_type": "code",
   "execution_count": 543,
   "id": "d7b812ec-0605-4b1c-aead-966087276249",
   "metadata": {},
   "outputs": [
    {
     "name": "stdout",
     "output_type": "stream",
     "text": [
      "10\n"
     ]
    }
   ],
   "source": [
    "# 11. Write a program to find the largest among three numbers using nested if-else statements.\n",
    "x1=8\n",
    "x2=1\n",
    "x3=10\n",
    "if x1>x2:\n",
    "    if x1>x3:\n",
    "        print(x1)\n",
    "    else:\n",
    "        print(x3)\n",
    "else:\n",
    "    print(x2)"
   ]
  },
  {
   "cell_type": "code",
   "execution_count": 621,
   "id": "cd03c111-7814-42a3-9bb1-72d9b3d7fe67",
   "metadata": {},
   "outputs": [
    {
     "name": "stdout",
     "output_type": "stream",
     "text": [
      "equilateral\n"
     ]
    }
   ],
   "source": [
    "# 12. Implement a program to determine if a triangle is equilateral, isosceles, or scalene.\n",
    "x=3\n",
    "y=3\n",
    "z=3\n",
    "if x==y==z:\n",
    "    print(\"equilateral\")\n",
    "elif x==y or x==z or y==z:\n",
    "    print(\"isosceles\")\n",
    "else:\n",
    "    print(\"scalene\")"
   ]
  },
  {
   "cell_type": "code",
   "execution_count": 529,
   "id": "d9cefa7b-541f-4ad6-856b-72f4b3a859a7",
   "metadata": {},
   "outputs": [
    {
     "name": "stdout",
     "output_type": "stream",
     "text": [
      "leap and century year\n"
     ]
    }
   ],
   "source": [
    "# 13. Develop a program that checks if a year is a leap year and also if it is a century year.\n",
    "x=2000\n",
    "if x%4==0 and x%100 == 0 and x%400==0:\n",
    "    print(\"leap and century year\")\n",
    "else:\n",
    "    print(\"NO\")"
   ]
  },
  {
   "cell_type": "code",
   "execution_count": 531,
   "id": "0fe30d0c-3c8c-411d-b0aa-163169c6d415",
   "metadata": {},
   "outputs": [
    {
     "name": "stdout",
     "output_type": "stream",
     "text": [
      "positive\n"
     ]
    }
   ],
   "source": [
    "# 14. Write a Python script to determine if a number is positive, negative, or zero.\n",
    "x=10\n",
    "if x>=1:\n",
    "    print(\"positive\")\n",
    "elif x==0:\n",
    "    print(\"zero\")\n",
    "else:\n",
    "    print(\"negative\")"
   ]
  },
  {
   "cell_type": "code",
   "execution_count": 533,
   "id": "81ba71c2-0fc5-4781-ba94-811011520059",
   "metadata": {},
   "outputs": [
    {
     "name": "stdout",
     "output_type": "stream",
     "text": [
      "teenager\n"
     ]
    }
   ],
   "source": [
    "# 15. Create a program to check if a person is a teenager (between 13 and 19 years old).\n",
    "x=15\n",
    "if x>=13 and x<=19:\n",
    "    print(\"teenager\")\n",
    "else:\n",
    "    print(\"not a teenager\")"
   ]
  },
  {
   "cell_type": "code",
   "execution_count": 555,
   "id": "64917878-f0d5-4f4a-92d8-6e4297729460",
   "metadata": {},
   "outputs": [
    {
     "name": "stdout",
     "output_type": "stream",
     "text": [
      "acute angle\n"
     ]
    }
   ],
   "source": [
    "# 16. Develop a program that determines the type of angle based on its measure (acute, obtuse, or right).\n",
    "a=70\n",
    "if a > 90 :\n",
    "    print(\"obtuse angle\")\n",
    "elif a == 90 :\n",
    "    print(\"right angle\")\n",
    "else:\n",
    "    print(\"acute angle\")"
   ]
  },
  {
   "cell_type": "code",
   "execution_count": 573,
   "id": "c475647e-3fef-4834-85c8-a32dafe21b5b",
   "metadata": {},
   "outputs": [
    {
     "name": "stdout",
     "output_type": "stream",
     "text": [
      "Two real and distinct roots: -0.3944487245360109 and -7.60555127546399\n"
     ]
    }
   ],
   "source": [
    "# 17. Write a Python program to calculate the roots of a quadratic equation. \n",
    "import math\n",
    "a=1\n",
    "b=8\n",
    "c=3\n",
    "\n",
    "d = b**2 - 4*a*c\n",
    "if d > 0:\n",
    "    root1 = (-b + math.sqrt(d)) / (2*a)\n",
    "    root2 = (-b - math.sqrt(d)) / (2*a)\n",
    "    print(f\"Two real and distinct roots: {root1} and {root2}\")\n",
    "elif d == 0:\n",
    "    root = -b / (2*a)\n",
    "    print(f\"One real root: {root}\")\n",
    "else:\n",
    "    real_part = -b / (2*a)\n",
    "    imaginary_part = math.sqrt(-d) / (2*a)\n",
    "    print(f\"Complex roots: {real_part}+{imaginary_part}i and {real_part}-{imaginary_part}i\")"
   ]
  },
  {
   "cell_type": "code",
   "execution_count": 577,
   "id": "49ab97ce-5bae-4c86-b168-f81654edc0e4",
   "metadata": {},
   "outputs": [
    {
     "name": "stdout",
     "output_type": "stream",
     "text": [
      "wednesday\n"
     ]
    }
   ],
   "source": [
    "# 18. Implement a program to determine the day of the week based on a user-provided number (1 for Monday, 2 for Tuesday, etc.).\n",
    "a=3\n",
    "if a == 1:\n",
    "    print(\"monday\")\n",
    "elif a == 2:\n",
    "    print(\"tuesday\")\n",
    "elif a == 3:\n",
    "    print(\"wednesday\")\n",
    "elif a == 4:\n",
    "    print(\"thursday\")\n",
    "elif a == 5:\n",
    "    print(\"friday\")\n",
    "elif a == 6:\n",
    "    print(\"saturday\")\n",
    "elif a == 7:\n",
    "    print(\"sunday\")\n",
    "else:\n",
    "    print(\"out of range\")\n",
    "    "
   ]
  },
  {
   "cell_type": "code",
   "execution_count": 587,
   "id": "e1736ff3-b41c-449d-95fa-ff28f6b460f5",
   "metadata": {},
   "outputs": [
    {
     "name": "stdout",
     "output_type": "stream",
     "text": [
      "not a leap year\n"
     ]
    }
   ],
   "source": [
    "# 19. Create a program that determines if a year is a leap year and also if it is evenly divisible by 400.\n",
    "x=1900\n",
    "if x % 4 ==0 and (x % 400 ==0 or x % 100 !=0):\n",
    "    if x% 400== 0:\n",
    "        print(\"is a leap year and divisible by 400\")\n",
    "    else:\n",
    "        print(\"leap year but not divisible by 400\")\n",
    "else:\n",
    "    print(\"not a leap year\")"
   ]
  },
  {
   "cell_type": "code",
   "execution_count": 615,
   "id": "86f09cd5-9f73-42ee-9242-246418ea039a",
   "metadata": {},
   "outputs": [
    {
     "name": "stdout",
     "output_type": "stream",
     "text": [
      "not a prime number\n"
     ]
    }
   ],
   "source": [
    "# 20. Develop a program that checks if a given number is prime or not using nested if-else statements.\n",
    "x=1\n",
    "if x > 1:\n",
    "    for i in range(2,x):\n",
    "        if x%i==0:\n",
    "            print(\"not a prime number\")\n",
    "            break\n",
    "    else:\n",
    "        print(\"prime number\")\n",
    "else:\n",
    "    print(\"not a prime number\")\n"
   ]
  },
  {
   "cell_type": "code",
   "execution_count": 623,
   "id": "612caf70-1efa-4cf2-a5e1-3f1dee74b139",
   "metadata": {},
   "outputs": [
    {
     "name": "stdout",
     "output_type": "stream",
     "text": [
      "a+\n"
     ]
    }
   ],
   "source": [
    "# 21. Write a Python program to assign grades based on different ranges of scores using elif statements.\n",
    "x=99\n",
    "if x>90 and x<=100:\n",
    "    print(\"a+\")\n",
    "elif x>80 and x<=90:\n",
    "    print(\"a\")\n",
    "elif x>70 and x<=70:\n",
    "    print(\"b\")\n",
    "else:\n",
    "    print(\"fail\")"
   ]
  },
  {
   "cell_type": "code",
   "execution_count": 627,
   "id": "864d0d79-c5c0-4831-8b72-ddbc81e4f3ed",
   "metadata": {},
   "outputs": [
    {
     "name": "stdout",
     "output_type": "stream",
     "text": [
      "acute angled triangle\n"
     ]
    }
   ],
   "source": [
    "# 22. Implement a program to determine the type of a triangle based on its angles.\n",
    "a=70\n",
    "if a > 90 :\n",
    "    print(\"obtuse angled triangle\")\n",
    "elif a == 90 :\n",
    "    print(\"right angled triangle\")\n",
    "else:\n",
    "    print(\"acute angled triangle\")\n"
   ]
  },
  {
   "cell_type": "code",
   "execution_count": 643,
   "id": "0e12f7e1-dc6d-4161-b757-d23cfa7d7c6b",
   "metadata": {},
   "outputs": [
    {
     "name": "stdout",
     "output_type": "stream",
     "text": [
      "normal\n"
     ]
    }
   ],
   "source": [
    "# 23. Develop a program to categorize a given person's BMI into underweight, normal, overweight, or obese using Elif Statements:\n",
    "w=75    # in kg \n",
    "h=1.75  # in meter\n",
    "z=w/h**2\n",
    "if z<18.5:\n",
    "    print(\"underweight\")\n",
    "elif z >=18.5 and z < 25:\n",
    "    print(\"normal\")\n",
    "elif z>=25 and z<30 :\n",
    "    print(\"overweight\")\n",
    "else:\n",
    "    print(\"obese\")"
   ]
  },
  {
   "cell_type": "code",
   "execution_count": 651,
   "id": "4739dbbb-6e03-4fa8-a0f7-687807b1795e",
   "metadata": {},
   "outputs": [],
   "source": [
    "# elif statements.\n"
   ]
  },
  {
   "cell_type": "code",
   "execution_count": 645,
   "id": "be9f9274-e45f-4216-a56c-925f009b1eb6",
   "metadata": {},
   "outputs": [
    {
     "name": "stdout",
     "output_type": "stream",
     "text": [
      "positive\n"
     ]
    }
   ],
   "source": [
    "# 24. Create a program that determines whether a given number is positive, negative, or zero using elif\n",
    "# statements.\n",
    "x=10\n",
    "if x>=1:\n",
    "    print(\"positive\")\n",
    "elif x==0:\n",
    "    print(\"zero\")\n",
    "else:\n",
    "    print(\"negative\")"
   ]
  },
  {
   "cell_type": "code",
   "execution_count": null,
   "id": "7b1f393e-65ff-4e59-bcc5-cf1f35fc439a",
   "metadata": {},
   "outputs": [],
   "source": [
    "# 25. Write a Python script to determine the type of a character (uppercase, lowercase, or special) using elif statements.\n",
    "x=\n",
    "y=ord(x)\n",
    "if y>=65 and  y<91  "
   ]
  },
  {
   "cell_type": "code",
   "execution_count": 417,
   "id": "bd8466ee-9251-41ec-839f-e5cfc6320cd1",
   "metadata": {},
   "outputs": [
    {
     "name": "stdout",
     "output_type": "stream",
     "text": [
      "21700.0\n"
     ]
    }
   ],
   "source": [
    "# 26. Implement a program to calculate the discounted price based on different purchase amounts using elif statements.\n",
    "x=31000\n",
    "if x < 10000:\n",
    "    print(\"no discount\")\n",
    "elif x >= 10000 and x<20000:\n",
    "    y=x-x*10/100\n",
    "elif x >= 20000 and x<30000:\n",
    "    y=x-x*20/100\n",
    "elif x >=30000 and x<40000:\n",
    "    y=x-x*30/100\n",
    "elif x >=40000 and x<50000:\n",
    "    y=x-x*40/100\n",
    "else:\n",
    "    y=x-x*50/100\n",
    "print(y)\n"
   ]
  },
  {
   "cell_type": "code",
   "execution_count": 425,
   "id": "bd4f9201-8fee-40a1-bf2e-50a313b802f3",
   "metadata": {},
   "outputs": [
    {
     "name": "stdout",
     "output_type": "stream",
     "text": [
      "1290\n"
     ]
    }
   ],
   "source": [
    "# 27. Develop a program to calculate the electricity bill based on different consumption slabs using elif\n",
    "# statements.\n",
    "unit=210\n",
    "if unit <= 100:\n",
    "    bill=unit*5\n",
    "elif unit <= 200:\n",
    "    bill=(100*5)+((unit-100)*7)\n",
    "elif unit <= 300:\n",
    "    bill=(100*5)+(100*7)+(unit-200)*9\n",
    "else:\n",
    "    bill=(100*5)+(100*7)+(100*9)+(unit-300)*100\n",
    "print(bill)"
   ]
  },
  {
   "cell_type": "code",
   "execution_count": 429,
   "id": "223de2e6-ca46-4fa3-a930-143930d0b98a",
   "metadata": {},
   "outputs": [
    {
     "name": "stdout",
     "output_type": "stream",
     "text": [
      "Not a valid quadrilateral (angles don't sum to 360°)\n"
     ]
    }
   ],
   "source": [
    "# 28. Create a program to determine the type of quadrilateral based on its angles and sides using elif\n",
    "# statements.\n",
    "a=1 \n",
    "b=3 \n",
    "c=4 \n",
    "d=4\n",
    "A=89 \n",
    "B=98 \n",
    "C=98 \n",
    "D=88\n",
    "if A + B + C + D != 360:\n",
    "    print(\"Not a valid quadrilateral (angles don't sum to 360°)\")\n",
    "elif a == b == c == d and A == B == C == D == 90:\n",
    "    print(\"It is a Square\")\n",
    "elif a == c and b == d and A == B == C == D == 90:\n",
    "    print(\"It is a Rectangle\")\n",
    "elif a == c and b == d and A == C and B == D:\n",
    "    print(\"It is a Parallelogram\")\n",
    "elif a == b == c == d:\n",
    "    print(\"It is a Rhombus\")\n",
    "elif a == c or b == d:\n",
    "    print(\"It is a Kite or a Trapezium\")\n",
    "else:\n",
    "    print(\"It is a general Quadrilateral\")"
   ]
  },
  {
   "cell_type": "code",
   "execution_count": 437,
   "id": "f2d7faa6-fb85-4196-b88d-9c7e67804f96",
   "metadata": {},
   "outputs": [
    {
     "name": "stdout",
     "output_type": "stream",
     "text": [
      "spring\n"
     ]
    }
   ],
   "source": [
    "# 29. Write a Python script to determine the season based on a user-provided month using elif statements.\n",
    "month='march'\n",
    "s1=['january','february','march']\n",
    "s2=['april','may','june']\n",
    "s3=['july','august','september']\n",
    "s4=['october','november','december']\n",
    "if month in s1:\n",
    "    print('spring')\n",
    "elif month in s2:\n",
    "    print('summer')\n",
    "elif month in s3:\n",
    "    print('autumn')\n",
    "else:\n",
    "    print(\"winter\")"
   ]
  },
  {
   "cell_type": "code",
   "execution_count": 479,
   "id": "3101e8ca-5219-4a45-a5c1-f01138c49951",
   "metadata": {},
   "outputs": [
    {
     "name": "stdout",
     "output_type": "stream",
     "text": [
      "not a leap year\n",
      "30 day month\n"
     ]
    }
   ],
   "source": [
    "# 30. Implement a program to determine the type of a year (leap or common) and month (30 or 31 days) using elif statements.\n",
    "month=30\n",
    "year=1900\n",
    "if year%4==0 and (year%400==0 or year%100!=0):\n",
    "    print(\"leap year\")\n",
    "else:\n",
    "    print(\"not a leap year\")\n",
    "if month<=30:\n",
    "    print('30 day month')\n",
    "else:\n",
    "    print(\"31 day month\")"
   ]
  },
  {
   "cell_type": "code",
   "execution_count": 653,
   "id": "02c418c8-7ca2-44d8-af02-7f3cd45ca243",
   "metadata": {},
   "outputs": [],
   "source": [
    "# Combined : \n"
   ]
  },
  {
   "cell_type": "code",
   "execution_count": null,
   "id": "4393e771-6bda-4328-8039-bb8bf29c88d1",
   "metadata": {},
   "outputs": [],
   "source": [
    "\n",
    "# 3. Write a program to find the maximum of two given numbers using conditional statements.\n",
    "# 4. Develop a program that calculates the grade of a student based on their exam score.\n",
    "# 5. Create a program that checks if a year is a leap year or not.\n",
    "# 6. Write a program to classify a triangle based on its sides' lengths.\n",
    "# 7. Build a program that determines the largest of three given numbers.\n",
    "# 8. Develop a program that checks whether a character is a vowel or a consonant.\n",
    "# 9. Create a program to calculate the total cost of a shopping cart based on discounts.\n",
    "# 10. Write a program that checks if a given number is even or odd.\n",
    "# 11. Write a program that calculates the roots of a quadratic equation .\n",
    "# 12. Create a program that determines the day of the week based on the day number (1-7).\n",
    "# 13. Develop a program that calculates the factorial of a given number using recursion.\n",
    "# 14. Write a program to find the largest among three numbers without using the `max()` function.\n",
    "# 15. Create a program that simulates a basic ATM transaction menu.\n",
    "# 16. Build a program that checks if a given string is a palindrome or not.\n",
    "# 17. Write a program that calculates the average of a list of numbers, excluding the smallest and largest values.\n",
    "# 18. Develop a program that converts a given temperature from Celsius to Fahrenheit.\n",
    "# 19. Create a program that simulates a basic calculator for addition, subtraction, multiplication, and division.\n",
    "# 20. Write a program that determines the roots of a cubic equation using the Cardano formula.\n",
    "# 21. Create a program that calculates the income tax based on the user's income and tax brackets.\n",
    "# 22. Write a program that simulates a rock-paper-scissors game against the computer.\n",
    "# 23. Develop a program that generates a random password based on user preferences (length, complexity).\n",
    "# 24. Create a program that implements a simple text-based adventure game with branching scenarios.\n",
    "# 25. Build a program that solves a linear equation for x, considering different cases.\n",
    "# 26. Write a program that simulates a basic quiz game with multiple-choice questions and scoring.\n",
    "# 27. Develop a program that determines whether a given year is a prime number or not.\n",
    "# 28. Create a program that sorts three numbers in ascending order using conditional statements.\n",
    "# 29. Build a program that determines the roots of a quartic equation using numerical methods.\n",
    "# 30. Write a program that calculates the BMI (Body Mass Index) and provides health recommendations based on the user's input.\n"
   ]
  },
  {
   "cell_type": "code",
   "execution_count": 675,
   "id": "1d5f8d84-f27a-41e0-bc74-2738966afdb5",
   "metadata": {},
   "outputs": [
    {
     "name": "stdout",
     "output_type": "stream",
     "text": [
      "positive\n"
     ]
    }
   ],
   "source": [
    "# 1. Write a Python program that checks if a given number is positive, negative, or zero.\n",
    "x=10\n",
    "if x>=1:\n",
    "    print(\"positive\")\n",
    "elif x==0:\n",
    "    print(\"zero\")\n",
    "else:\n",
    "    print(\"negative\")"
   ]
  },
  {
   "cell_type": "code",
   "execution_count": 491,
   "id": "3d3043c0-2d11-4fce-a76a-50f7964c6bbc",
   "metadata": {},
   "outputs": [
    {
     "name": "stdin",
     "output_type": "stream",
     "text": [
      "enter the operation to perform: '/'\n"
     ]
    },
    {
     "data": {
      "text/plain": [
       "0.875"
      ]
     },
     "execution_count": 491,
     "metadata": {},
     "output_type": "execute_result"
    }
   ],
   "source": [
    "# 2. Create a program to determine if a person is eligible to vote based on their age.\n"
   ]
  },
  {
   "cell_type": "code",
   "execution_count": null,
   "id": "ebb927d6-0d66-4a9f-bfdf-46f25f76f449",
   "metadata": {},
   "outputs": [],
   "source": []
  }
 ],
 "metadata": {
  "kernelspec": {
   "display_name": "Python 3 (ipykernel)",
   "language": "python",
   "name": "python3"
  },
  "language_info": {
   "codemirror_mode": {
    "name": "ipython",
    "version": 3
   },
   "file_extension": ".py",
   "mimetype": "text/x-python",
   "name": "python",
   "nbconvert_exporter": "python",
   "pygments_lexer": "ipython3",
   "version": "3.12.4"
  }
 },
 "nbformat": 4,
 "nbformat_minor": 5
}
